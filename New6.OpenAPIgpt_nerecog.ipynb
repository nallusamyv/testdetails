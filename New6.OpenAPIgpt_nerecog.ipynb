{
 "cells": [
  {
   "cell_type": "code",
   "execution_count": 1,
   "metadata": {},
   "outputs": [
    {
     "data": {
      "text/plain": [
       "True"
      ]
     },
     "execution_count": 1,
     "metadata": {},
     "output_type": "execute_result"
    }
   ],
   "source": [
    "import os\n",
    "from dotenv import load_dotenv\n",
    "load_dotenv()\n"
   ]
  },
  {
   "cell_type": "code",
   "execution_count": 3,
   "metadata": {},
   "outputs": [],
   "source": [
    "os.environ[\"OPENAI_API_KEY\"]=os.getenv(\"OPEN_API_SECRET_KEY\")\n"
   ]
  },
  {
   "cell_type": "code",
   "execution_count": 6,
   "metadata": {},
   "outputs": [
    {
     "name": "stderr",
     "output_type": "stream",
     "text": [
      "C:\\Users\\sures\\AppData\\Local\\Temp\\ipykernel_7244\\2837446721.py:14: FutureWarning: DataFrame.applymap has been deprecated. Use DataFrame.map instead.\n",
      "  df = df.applymap(lambda x: x.strip().lower() if isinstance(x, str) else x)\n"
     ]
    },
    {
     "name": "stdout",
     "output_type": "stream",
     "text": [
      "Pandas DataFrame after cleaning:\n",
      "     TABLE_NAME              logical_column_name physical_column_name  \\\n",
      "0        branch            branch contact number       branch_contact   \n",
      "1        branch                  branch location            brnch_loc   \n",
      "2       account                  branch location            brnch_loc   \n",
      "3        branch                   branch manager            brnch_mgr   \n",
      "4       account                   branch manager            brnch_mgr   \n",
      "5       account                   branch manager            brnch_mgr   \n",
      "6   credit_card              credit card balance               cc_bal   \n",
      "7       account              credit card balance               cc_bal   \n",
      "8   credit_card               credit card expiry               cc_exp   \n",
      "9       account               credit card expiry               cc_exp   \n",
      "10  credit_card               credit card number               cc_num   \n",
      "11      account               credit card number               cc_num   \n",
      "12     customer                     customer age                  age   \n",
      "13      account                     customer age                  age   \n",
      "14     customer          customer average salary              avg_sal   \n",
      "15      account          customer average salary              avg_sal   \n",
      "16     customer  customer closing balance amount     cust_cls_bal_amt   \n",
      "17      account  customer closing balance amount     cust_cls_bal_amt   \n",
      "18     customer            customer credit limit        cust_crdt_lim   \n",
      "19      account            customer credit limit        cust_crdt_lim   \n",
      "20     customer  customer opening balance amount    cust_open_bal_amt   \n",
      "21      account  customer opening balance amount    cust_open_bal_amt   \n",
      "22         loan                      loan amount             loan_amt   \n",
      "23      account                      loan amount             loan_amt   \n",
      "24       branch             loan approval status    loan_approval_sts   \n",
      "25      account             loan approval status    loan_approval_sts   \n",
      "26         loan               loan interest rate        loan_int_rate   \n",
      "27      account               loan interest rate        loan_int_rate   \n",
      "28  transaction               transaction amount            trans_amt   \n",
      "29      account               transaction amount            trans_amt   \n",
      "30  transaction                 transaction date           trans_date   \n",
      "31      account                 transaction date           trans_date   \n",
      "32       branch                  transaction fee            trans_fee   \n",
      "\n",
      "        data_type   protection_group PGGroup  \n",
      "0    varchar(255)           internal    intl  \n",
      "1    varchar(200)             public     pub  \n",
      "2    varchar(200)             public     pub  \n",
      "3    varchar(200)          riskscore  risksc  \n",
      "4    varchar(200)          riskscore  risksc  \n",
      "5    varchar(255)       confidential    cnfd  \n",
      "6   decimal(20,3)           internal    cnfd  \n",
      "7   decimal(20,3)           internal    cnfd  \n",
      "8         integer             public     pub  \n",
      "9         integer             public     pub  \n",
      "10        integer       confidential    cnfd  \n",
      "11        integer       confidential    cnfd  \n",
      "12        integer       confidential    cnfd  \n",
      "13        integer       confidential    cnfd  \n",
      "14        integer  high confidential  hicnfd  \n",
      "15        integer  high confidential  hicnfd  \n",
      "16  decimal(20,3)       confidential    cnfd  \n",
      "17  decimal(20,3)       confidential    cnfd  \n",
      "18  decimal(20,3)       confidential    cnfd  \n",
      "19  decimal(20,3)       confidential    cnfd  \n",
      "20  decimal(20,3)       confidential    cnfd  \n",
      "21  decimal(20,3)       confidential    cnfd  \n",
      "22  decimal(20,3)       confidential    cnfd  \n",
      "23  decimal(20,3)       confidential    cnfd  \n",
      "24   varchar(255)             public    cnfd  \n",
      "25   varchar(255)             public    cnfd  \n",
      "26  decimal(20,3)             public    intl  \n",
      "27  decimal(20,3)             public    intl  \n",
      "28  decimal(10,2)       confidential    cnfd  \n",
      "29  decimal(10,2)       confidential    cnfd  \n",
      "30           date           internal    intl  \n",
      "31           date           internal    intl  \n",
      "32  decimal(20,3)       confidential    cnfd  \n",
      "Updated page content: Table: , Logical Column: branch contact number, Physical Column: branch_contact, Data Type: varchar(255), Protection Group: internal, PG Group: intl\n",
      "Updated page content: Table: , Logical Column: branch location, Physical Column: brnch_loc, Data Type: varchar(200), Protection Group: public, PG Group: pub\n",
      "Updated page content: Table: , Logical Column: branch location, Physical Column: brnch_loc, Data Type: varchar(200), Protection Group: public, PG Group: pub\n",
      "Updated page content: Table: , Logical Column: branch manager, Physical Column: brnch_mgr, Data Type: varchar(200), Protection Group: riskscore, PG Group: risksc\n",
      "Updated page content: Table: , Logical Column: branch manager, Physical Column: brnch_mgr, Data Type: varchar(200), Protection Group: riskscore, PG Group: risksc\n",
      "Updated page content: Table: , Logical Column: branch manager, Physical Column: brnch_mgr, Data Type: varchar(255), Protection Group: confidential, PG Group: cnfd\n",
      "Updated page content: Table: , Logical Column: credit card balance, Physical Column: cc_bal, Data Type: decimal(20,3), Protection Group: internal, PG Group: cnfd\n",
      "Updated page content: Table: , Logical Column: credit card balance, Physical Column: cc_bal, Data Type: decimal(20,3), Protection Group: internal, PG Group: cnfd\n",
      "Updated page content: Table: , Logical Column: credit card expiry, Physical Column: cc_exp, Data Type: integer, Protection Group: public, PG Group: pub\n",
      "Updated page content: Table: , Logical Column: credit card expiry, Physical Column: cc_exp, Data Type: integer, Protection Group: public, PG Group: pub\n",
      "Updated page content: Table: , Logical Column: credit card number, Physical Column: cc_num, Data Type: integer, Protection Group: confidential, PG Group: cnfd\n",
      "Updated page content: Table: , Logical Column: credit card number, Physical Column: cc_num, Data Type: integer, Protection Group: confidential, PG Group: cnfd\n",
      "Updated page content: Table: , Logical Column: customer age, Physical Column: age, Data Type: integer, Protection Group: confidential, PG Group: cnfd\n",
      "Updated page content: Table: , Logical Column: customer age, Physical Column: age, Data Type: integer, Protection Group: confidential, PG Group: cnfd\n",
      "Updated page content: Table: , Logical Column: customer average salary, Physical Column: avg_sal, Data Type: integer, Protection Group: high confidential, PG Group: hicnfd\n",
      "Updated page content: Table: , Logical Column: customer average salary, Physical Column: avg_sal, Data Type: integer, Protection Group: high confidential, PG Group: hicnfd\n",
      "Updated page content: Table: , Logical Column: customer closing balance amount, Physical Column: cust_cls_bal_amt, Data Type: decimal(20,3), Protection Group: confidential, PG Group: cnfd\n",
      "Updated page content: Table: , Logical Column: customer closing balance amount, Physical Column: cust_cls_bal_amt, Data Type: decimal(20,3), Protection Group: confidential, PG Group: cnfd\n",
      "Updated page content: Table: , Logical Column: customer credit limit, Physical Column: cust_crdt_lim, Data Type: decimal(20,3), Protection Group: confidential, PG Group: cnfd\n",
      "Updated page content: Table: , Logical Column: customer credit limit, Physical Column: cust_crdt_lim, Data Type: decimal(20,3), Protection Group: confidential, PG Group: cnfd\n",
      "Updated page content: Table: , Logical Column: customer opening balance amount, Physical Column: cust_open_bal_amt, Data Type: decimal(20,3), Protection Group: confidential, PG Group: cnfd\n",
      "Updated page content: Table: , Logical Column: customer opening balance amount, Physical Column: cust_open_bal_amt, Data Type: decimal(20,3), Protection Group: confidential, PG Group: cnfd\n",
      "Updated page content: Table: , Logical Column: loan amount, Physical Column: loan_amt, Data Type: decimal(20,3), Protection Group: confidential, PG Group: cnfd\n",
      "Updated page content: Table: , Logical Column: loan amount, Physical Column: loan_amt, Data Type: decimal(20,3), Protection Group: confidential, PG Group: cnfd\n",
      "Updated page content: Table: , Logical Column: loan approval status, Physical Column: loan_approval_sts, Data Type: varchar(255), Protection Group: public, PG Group: cnfd\n",
      "Updated page content: Table: , Logical Column: loan approval status, Physical Column: loan_approval_sts, Data Type: varchar(255), Protection Group: public, PG Group: cnfd\n",
      "Updated page content: Table: , Logical Column: loan interest rate, Physical Column: loan_int_rate, Data Type: decimal(20,3), Protection Group: public, PG Group: intl\n",
      "Updated page content: Table: , Logical Column: loan interest rate, Physical Column: loan_int_rate, Data Type: decimal(20,3), Protection Group: public, PG Group: intl\n",
      "Updated page content: Table: , Logical Column: transaction amount, Physical Column: trans_amt, Data Type: decimal(10,2), Protection Group: confidential, PG Group: cnfd\n",
      "Updated page content: Table: , Logical Column: transaction amount, Physical Column: trans_amt, Data Type: decimal(10,2), Protection Group: confidential, PG Group: cnfd\n",
      "Updated page content: Table: , Logical Column: transaction date, Physical Column: trans_date, Data Type: date, Protection Group: internal, PG Group: intl\n",
      "Updated page content: Table: , Logical Column: transaction date, Physical Column: trans_date, Data Type: date, Protection Group: internal, PG Group: intl\n",
      "Updated page content: Table: , Logical Column: transaction fee, Physical Column: trans_fee, Data Type: decimal(20,3), Protection Group: confidential, PG Group: cnfd\n"
     ]
    }
   ],
   "source": [
    "import pandas as pd\n",
    "import spacy\n",
    "from langchain.docstore.document import Document\n",
    "from langchain_openai import OpenAIEmbeddings\n",
    "from langchain_chroma import Chroma\n",
    "\n",
    "# Load SpaCy's English language model for NER\n",
    "nlp = spacy.load(\"en_core_web_sm\")\n",
    "csv_file_path = \"updated_bank_risk_metadata.csv\"\n",
    "# Load the CSV file into a DataFrame\n",
    "df = pd.read_csv(csv_file_path)\n",
    "\n",
    "# Data Cleaning: Normalize and clean the DataFrame values\n",
    "df = df.applymap(lambda x: x.strip().lower() if isinstance(x, str) else x)\n",
    "\n",
    "print(\"Pandas DataFrame after cleaning:\")\n",
    "print(df)\n",
    "\n",
    "# Create documents from the cleaned DataFrame\n",
    "documents = []\n",
    "for _, row in df.iterrows():\n",
    "    # Combine fields into a single descriptive text representation\n",
    "    combined_text = (f\"The logical column '{row['logical_column_name']}' corresponds to the physical column '{row['physical_column_name']}' \"\n",
    "                     f\"with a data type of '{row['data_type']}', protected under '{row['protection_group']}' group, \"\n",
    "                     f\"and belongs to PG group '{row['PGGroup']}'.\")\n",
    "    \n",
    "    # Named Entity Recognition (NER)\n",
    "    doc_nlp = nlp(combined_text)\n",
    "    entities = [(ent.text, ent.label_) for ent in doc_nlp.ents]\n",
    "    \n",
    "    # Create Document with combined text and metadata\n",
    "    metadata = {\n",
    "        \"logical_column_name\": row[\"logical_column_name\"],\n",
    "        \"physical_column_name\": row[\"physical_column_name\"],\n",
    "        \"data_type\": row[\"data_type\"],\n",
    "        \"protection_group\": row[\"protection_group\"],\n",
    "        \"PGGroup\": row[\"PGGroup\"],\n",
    "        \"entities\": entities  # Store recognized entities in metadata\n",
    "    }\n",
    "    \n",
    "    doc = Document(page_content=combined_text, metadata=metadata)\n",
    "    documents.append(doc)\n",
    "\n",
    "# Update documents with combined text content\n",
    "for doc in documents:\n",
    "    # Extract metadata fields\n",
    "    table_name = doc.metadata.get('table_name', \"\")\n",
    "    logical_column_name = doc.metadata.get('logical_column_name', \"\")\n",
    "    physical_column_name = doc.metadata.get('physical_column_name', \"\")\n",
    "    data_type = doc.metadata.get('data_type', \"\")\n",
    "    protection_group = doc.metadata.get('protection_group', \"\")\n",
    "    pg_group = doc.metadata.get('PGGroup', \"\")\n",
    "\n",
    "    # Combine fields to create a descriptive text representation for the document\n",
    "    combined_text = (f\"Table: {table_name}, \"\n",
    "                     f\"Logical Column: {logical_column_name}, \"\n",
    "                     f\"Physical Column: {physical_column_name}, \"\n",
    "                     f\"Data Type: {data_type}, \"\n",
    "                     f\"Protection Group: {protection_group}, \"\n",
    "                     f\"PG Group: {pg_group}\")\n",
    "\n",
    "    # Update the document's content with the combined text\n",
    "    doc.page_content = combined_text\n",
    "    print(f\"Updated page content: {doc.page_content}\")\n",
    "\n",
    "# Generate embeddings\n",
    "embedding_adamodel = OpenAIEmbeddings(model=\"text-embedding-ada-002\")\n",
    "embeddings = [embedding_adamodel.embed_query(doc.page_content) for doc in documents]\n",
    "metadatas = [doc.metadata for doc in documents]\n",
    "\n",
    "# Initialize Chroma vector store\n",
    "vector_store = Chroma(embedding_function=embedding_adamodel, persist_directory=\"./chroma_db\")\n",
    "\n",
    "from langchain_community.vectorstores.utils import filter_complex_metadata\n",
    "\n",
    "def filter_metadata(metadata):\n",
    "    \"\"\"Filter out complex metadata values.\"\"\"\n",
    "    return {k: v for k, v in metadata.items() if isinstance(v, (str, int, float, bool))}\n",
    "\n",
    "# Use this in your loop where you add texts to the vector store\n",
    "for doc, embedding, metadata in zip(documents, embeddings, metadatas):\n",
    "    # Filter the metadata\n",
    "    filtered_metadata = filter_metadata(metadata)\n",
    "    \n",
    "    # Add to vector store\n",
    "    vector_store.add_texts(texts=[doc.page_content], metadatas=[filtered_metadata], embeddings=[embedding])\n"
   ]
  },
  {
   "cell_type": "code",
   "execution_count": 7,
   "metadata": {},
   "outputs": [],
   "source": [
    "from langchain_openai import OpenAIEmbeddings\n",
    "embedding_adamodel=OpenAIEmbeddings(model=\"text-embedding-ada-002\")\n",
    "embeddings = [embedding_adamodel.embed_query(doc.page_content) for doc in documents]\n",
    "metadatas=[doc.metadata for doc in documents]"
   ]
  },
  {
   "cell_type": "code",
   "execution_count": 8,
   "metadata": {},
   "outputs": [
    {
     "ename": "ValueError",
     "evalue": "Expected metadata value to be a str, int, float or bool, got [] which is a list\n\nTry filtering complex metadata from the document using langchain_community.vectorstores.utils.filter_complex_metadata.",
     "output_type": "error",
     "traceback": [
      "\u001b[1;31m---------------------------------------------------------------------------\u001b[0m",
      "\u001b[1;31mValueError\u001b[0m                                Traceback (most recent call last)",
      "File \u001b[1;32mc:\\Users\\sures\\anaconda3\\envs\\pyspark-env\\Lib\\site-packages\\langchain_chroma\\vectorstores.py:530\u001b[0m, in \u001b[0;36mChroma.add_texts\u001b[1;34m(self, texts, metadatas, ids, **kwargs)\u001b[0m\n\u001b[0;32m    529\u001b[0m \u001b[38;5;28;01mtry\u001b[39;00m:\n\u001b[1;32m--> 530\u001b[0m     \u001b[38;5;28;43mself\u001b[39;49m\u001b[38;5;241;43m.\u001b[39;49m\u001b[43m_collection\u001b[49m\u001b[38;5;241;43m.\u001b[39;49m\u001b[43mupsert\u001b[49m\u001b[43m(\u001b[49m\n\u001b[0;32m    531\u001b[0m \u001b[43m        \u001b[49m\u001b[43mmetadatas\u001b[49m\u001b[38;5;241;43m=\u001b[39;49m\u001b[43mmetadatas\u001b[49m\u001b[43m,\u001b[49m\u001b[43m  \u001b[49m\u001b[38;5;66;43;03m# type: ignore\u001b[39;49;00m\n\u001b[0;32m    532\u001b[0m \u001b[43m        \u001b[49m\u001b[43membeddings\u001b[49m\u001b[38;5;241;43m=\u001b[39;49m\u001b[43membeddings_with_metadatas\u001b[49m\u001b[43m,\u001b[49m\u001b[43m  \u001b[49m\u001b[38;5;66;43;03m# type: ignore\u001b[39;49;00m\n\u001b[0;32m    533\u001b[0m \u001b[43m        \u001b[49m\u001b[43mdocuments\u001b[49m\u001b[38;5;241;43m=\u001b[39;49m\u001b[43mtexts_with_metadatas\u001b[49m\u001b[43m,\u001b[49m\n\u001b[0;32m    534\u001b[0m \u001b[43m        \u001b[49m\u001b[43mids\u001b[49m\u001b[38;5;241;43m=\u001b[39;49m\u001b[43mids_with_metadata\u001b[49m\u001b[43m,\u001b[49m\n\u001b[0;32m    535\u001b[0m \u001b[43m    \u001b[49m\u001b[43m)\u001b[49m\n\u001b[0;32m    536\u001b[0m \u001b[38;5;28;01mexcept\u001b[39;00m \u001b[38;5;167;01mValueError\u001b[39;00m \u001b[38;5;28;01mas\u001b[39;00m e:\n",
      "File \u001b[1;32mc:\\Users\\sures\\anaconda3\\envs\\pyspark-env\\Lib\\site-packages\\chromadb\\api\\models\\Collection.py:298\u001b[0m, in \u001b[0;36mCollection.upsert\u001b[1;34m(self, ids, embeddings, metadatas, documents, images, uris)\u001b[0m\n\u001b[0;32m    281\u001b[0m \u001b[38;5;250m\u001b[39m\u001b[38;5;124;03m\"\"\"Update the embeddings, metadatas or documents for provided ids, or create them if they don't exist.\u001b[39;00m\n\u001b[0;32m    282\u001b[0m \n\u001b[0;32m    283\u001b[0m \u001b[38;5;124;03mArgs:\u001b[39;00m\n\u001b[1;32m   (...)\u001b[0m\n\u001b[0;32m    290\u001b[0m \u001b[38;5;124;03m    None\u001b[39;00m\n\u001b[0;32m    291\u001b[0m \u001b[38;5;124;03m\"\"\"\u001b[39;00m\n\u001b[0;32m    292\u001b[0m (\n\u001b[0;32m    293\u001b[0m     ids,\n\u001b[0;32m    294\u001b[0m     embeddings,\n\u001b[0;32m    295\u001b[0m     metadatas,\n\u001b[0;32m    296\u001b[0m     documents,\n\u001b[0;32m    297\u001b[0m     uris,\n\u001b[1;32m--> 298\u001b[0m ) \u001b[38;5;241m=\u001b[39m \u001b[38;5;28;43mself\u001b[39;49m\u001b[38;5;241;43m.\u001b[39;49m\u001b[43m_validate_and_prepare_upsert_request\u001b[49m\u001b[43m(\u001b[49m\n\u001b[0;32m    299\u001b[0m \u001b[43m    \u001b[49m\u001b[43mids\u001b[49m\u001b[43m,\u001b[49m\u001b[43m \u001b[49m\u001b[43membeddings\u001b[49m\u001b[43m,\u001b[49m\u001b[43m \u001b[49m\u001b[43mmetadatas\u001b[49m\u001b[43m,\u001b[49m\u001b[43m \u001b[49m\u001b[43mdocuments\u001b[49m\u001b[43m,\u001b[49m\u001b[43m \u001b[49m\u001b[43mimages\u001b[49m\u001b[43m,\u001b[49m\u001b[43m \u001b[49m\u001b[43muris\u001b[49m\n\u001b[0;32m    300\u001b[0m \u001b[43m\u001b[49m\u001b[43m)\u001b[49m\n\u001b[0;32m    302\u001b[0m \u001b[38;5;28mself\u001b[39m\u001b[38;5;241m.\u001b[39m_client\u001b[38;5;241m.\u001b[39m_upsert(\n\u001b[0;32m    303\u001b[0m     collection_id\u001b[38;5;241m=\u001b[39m\u001b[38;5;28mself\u001b[39m\u001b[38;5;241m.\u001b[39mid,\n\u001b[0;32m    304\u001b[0m     ids\u001b[38;5;241m=\u001b[39mids,\n\u001b[1;32m   (...)\u001b[0m\n\u001b[0;32m    308\u001b[0m     uris\u001b[38;5;241m=\u001b[39muris,\n\u001b[0;32m    309\u001b[0m )\n",
      "File \u001b[1;32mc:\\Users\\sures\\anaconda3\\envs\\pyspark-env\\Lib\\site-packages\\chromadb\\api\\models\\CollectionCommon.py:540\u001b[0m, in \u001b[0;36mCollectionCommon._validate_and_prepare_upsert_request\u001b[1;34m(self, ids, embeddings, metadatas, documents, images, uris)\u001b[0m\n\u001b[0;32m    513\u001b[0m \u001b[38;5;28;01mdef\u001b[39;00m \u001b[38;5;21m_validate_and_prepare_upsert_request\u001b[39m(\n\u001b[0;32m    514\u001b[0m     \u001b[38;5;28mself\u001b[39m,\n\u001b[0;32m    515\u001b[0m     ids: OneOrMany[ID],\n\u001b[1;32m   (...)\u001b[0m\n\u001b[0;32m    531\u001b[0m     Optional[URIs],\n\u001b[0;32m    532\u001b[0m ]:\n\u001b[0;32m    533\u001b[0m     (\n\u001b[0;32m    534\u001b[0m         ids,\n\u001b[0;32m    535\u001b[0m         embeddings,\n\u001b[0;32m    536\u001b[0m         metadatas,\n\u001b[0;32m    537\u001b[0m         documents,\n\u001b[0;32m    538\u001b[0m         images,\n\u001b[0;32m    539\u001b[0m         uris,\n\u001b[1;32m--> 540\u001b[0m     ) \u001b[38;5;241m=\u001b[39m \u001b[38;5;28;43mself\u001b[39;49m\u001b[38;5;241;43m.\u001b[39;49m\u001b[43m_validate_embedding_set\u001b[49m\u001b[43m(\u001b[49m\n\u001b[0;32m    541\u001b[0m \u001b[43m        \u001b[49m\u001b[43mids\u001b[49m\u001b[43m,\u001b[49m\u001b[43m \u001b[49m\u001b[43membeddings\u001b[49m\u001b[43m,\u001b[49m\u001b[43m \u001b[49m\u001b[43mmetadatas\u001b[49m\u001b[43m,\u001b[49m\u001b[43m \u001b[49m\u001b[43mdocuments\u001b[49m\u001b[43m,\u001b[49m\u001b[43m \u001b[49m\u001b[43mimages\u001b[49m\u001b[43m,\u001b[49m\u001b[43m \u001b[49m\u001b[43muris\u001b[49m\n\u001b[0;32m    542\u001b[0m \u001b[43m    \u001b[49m\u001b[43m)\u001b[49m\n\u001b[0;32m    544\u001b[0m     \u001b[38;5;28;01mif\u001b[39;00m embeddings \u001b[38;5;129;01mis\u001b[39;00m \u001b[38;5;28;01mNone\u001b[39;00m:\n",
      "File \u001b[1;32mc:\\Users\\sures\\anaconda3\\envs\\pyspark-env\\Lib\\site-packages\\chromadb\\api\\models\\CollectionCommon.py:183\u001b[0m, in \u001b[0;36mCollectionCommon._validate_embedding_set\u001b[1;34m(self, ids, embeddings, metadatas, documents, images, uris, require_embeddings_or_data)\u001b[0m\n\u001b[0;32m    175\u001b[0m valid_embeddings \u001b[38;5;241m=\u001b[39m (\n\u001b[0;32m    176\u001b[0m     validate_embeddings(\n\u001b[0;32m    177\u001b[0m         \u001b[38;5;28mself\u001b[39m\u001b[38;5;241m.\u001b[39m_normalize_embeddings(maybe_cast_one_to_many_embedding(embeddings))\n\u001b[1;32m   (...)\u001b[0m\n\u001b[0;32m    180\u001b[0m     \u001b[38;5;28;01melse\u001b[39;00m \u001b[38;5;28;01mNone\u001b[39;00m\n\u001b[0;32m    181\u001b[0m )\n\u001b[0;32m    182\u001b[0m valid_metadatas \u001b[38;5;241m=\u001b[39m (\n\u001b[1;32m--> 183\u001b[0m     \u001b[43mvalidate_metadatas\u001b[49m\u001b[43m(\u001b[49m\u001b[43mmaybe_cast_one_to_many_metadata\u001b[49m\u001b[43m(\u001b[49m\u001b[43mmetadatas\u001b[49m\u001b[43m)\u001b[49m\u001b[43m)\u001b[49m\n\u001b[0;32m    184\u001b[0m     \u001b[38;5;28;01mif\u001b[39;00m metadatas \u001b[38;5;129;01mis\u001b[39;00m \u001b[38;5;129;01mnot\u001b[39;00m \u001b[38;5;28;01mNone\u001b[39;00m\n\u001b[0;32m    185\u001b[0m     \u001b[38;5;28;01melse\u001b[39;00m \u001b[38;5;28;01mNone\u001b[39;00m\n\u001b[0;32m    186\u001b[0m )\n\u001b[0;32m    187\u001b[0m valid_documents \u001b[38;5;241m=\u001b[39m (\n\u001b[0;32m    188\u001b[0m     maybe_cast_one_to_many_document(documents)\n\u001b[0;32m    189\u001b[0m     \u001b[38;5;28;01mif\u001b[39;00m documents \u001b[38;5;129;01mis\u001b[39;00m \u001b[38;5;129;01mnot\u001b[39;00m \u001b[38;5;28;01mNone\u001b[39;00m\n\u001b[0;32m    190\u001b[0m     \u001b[38;5;28;01melse\u001b[39;00m \u001b[38;5;28;01mNone\u001b[39;00m\n\u001b[0;32m    191\u001b[0m )\n",
      "File \u001b[1;32mc:\\Users\\sures\\anaconda3\\envs\\pyspark-env\\Lib\\site-packages\\chromadb\\api\\types.py:361\u001b[0m, in \u001b[0;36mvalidate_metadatas\u001b[1;34m(metadatas)\u001b[0m\n\u001b[0;32m    360\u001b[0m \u001b[38;5;28;01mfor\u001b[39;00m metadata \u001b[38;5;129;01min\u001b[39;00m metadatas:\n\u001b[1;32m--> 361\u001b[0m     \u001b[43mvalidate_metadata\u001b[49m\u001b[43m(\u001b[49m\u001b[43mmetadata\u001b[49m\u001b[43m)\u001b[49m\n\u001b[0;32m    362\u001b[0m \u001b[38;5;28;01mreturn\u001b[39;00m metadatas\n",
      "File \u001b[1;32mc:\\Users\\sures\\anaconda3\\envs\\pyspark-env\\Lib\\site-packages\\chromadb\\api\\types.py:327\u001b[0m, in \u001b[0;36mvalidate_metadata\u001b[1;34m(metadata)\u001b[0m\n\u001b[0;32m    326\u001b[0m     \u001b[38;5;28;01mif\u001b[39;00m \u001b[38;5;129;01mnot\u001b[39;00m \u001b[38;5;28misinstance\u001b[39m(value, \u001b[38;5;28mbool\u001b[39m) \u001b[38;5;129;01mand\u001b[39;00m \u001b[38;5;129;01mnot\u001b[39;00m \u001b[38;5;28misinstance\u001b[39m(value, (\u001b[38;5;28mstr\u001b[39m, \u001b[38;5;28mint\u001b[39m, \u001b[38;5;28mfloat\u001b[39m)):\n\u001b[1;32m--> 327\u001b[0m         \u001b[38;5;28;01mraise\u001b[39;00m \u001b[38;5;167;01mValueError\u001b[39;00m(\n\u001b[0;32m    328\u001b[0m             \u001b[38;5;124mf\u001b[39m\u001b[38;5;124m\"\u001b[39m\u001b[38;5;124mExpected metadata value to be a str, int, float or bool, got \u001b[39m\u001b[38;5;132;01m{\u001b[39;00mvalue\u001b[38;5;132;01m}\u001b[39;00m\u001b[38;5;124m which is a \u001b[39m\u001b[38;5;132;01m{\u001b[39;00m\u001b[38;5;28mtype\u001b[39m(value)\u001b[38;5;241m.\u001b[39m\u001b[38;5;18m__name__\u001b[39m\u001b[38;5;132;01m}\u001b[39;00m\u001b[38;5;124m\"\u001b[39m\n\u001b[0;32m    329\u001b[0m         )\n\u001b[0;32m    330\u001b[0m \u001b[38;5;28;01mreturn\u001b[39;00m metadata\n",
      "\u001b[1;31mValueError\u001b[0m: Expected metadata value to be a str, int, float or bool, got [] which is a list",
      "\nDuring handling of the above exception, another exception occurred:\n",
      "\u001b[1;31mValueError\u001b[0m                                Traceback (most recent call last)",
      "Cell \u001b[1;32mIn[8], line 10\u001b[0m\n\u001b[0;32m      8\u001b[0m \u001b[38;5;66;03m# Store the embeddings in the vector store with their metadata\u001b[39;00m\n\u001b[0;32m      9\u001b[0m \u001b[38;5;28;01mfor\u001b[39;00m doc, embedding, metadata \u001b[38;5;129;01min\u001b[39;00m \u001b[38;5;28mzip\u001b[39m(documents, embeddings, metadatas):\n\u001b[1;32m---> 10\u001b[0m     \u001b[43mvector_store\u001b[49m\u001b[38;5;241;43m.\u001b[39;49m\u001b[43madd_texts\u001b[49m\u001b[43m(\u001b[49m\u001b[43mtexts\u001b[49m\u001b[38;5;241;43m=\u001b[39;49m\u001b[43m[\u001b[49m\u001b[43mdoc\u001b[49m\u001b[38;5;241;43m.\u001b[39;49m\u001b[43mpage_content\u001b[49m\u001b[43m]\u001b[49m\u001b[43m,\u001b[49m\u001b[43m \u001b[49m\u001b[43mmetadatas\u001b[49m\u001b[38;5;241;43m=\u001b[39;49m\u001b[43m[\u001b[49m\u001b[43mmetadata\u001b[49m\u001b[43m]\u001b[49m\u001b[43m,\u001b[49m\u001b[43m \u001b[49m\u001b[43membeddings\u001b[49m\u001b[38;5;241;43m=\u001b[39;49m\u001b[43m[\u001b[49m\u001b[43membedding\u001b[49m\u001b[43m]\u001b[49m\u001b[43m)\u001b[49m\n\u001b[0;32m     12\u001b[0m \u001b[38;5;66;03m#store the value\u001b[39;00m\n",
      "File \u001b[1;32mc:\\Users\\sures\\anaconda3\\envs\\pyspark-env\\Lib\\site-packages\\langchain_chroma\\vectorstores.py:542\u001b[0m, in \u001b[0;36mChroma.add_texts\u001b[1;34m(self, texts, metadatas, ids, **kwargs)\u001b[0m\n\u001b[0;32m    537\u001b[0m \u001b[38;5;28;01mif\u001b[39;00m \u001b[38;5;124m\"\u001b[39m\u001b[38;5;124mExpected metadata value to be\u001b[39m\u001b[38;5;124m\"\u001b[39m \u001b[38;5;129;01min\u001b[39;00m \u001b[38;5;28mstr\u001b[39m(e):\n\u001b[0;32m    538\u001b[0m     msg \u001b[38;5;241m=\u001b[39m (\n\u001b[0;32m    539\u001b[0m         \u001b[38;5;124m\"\u001b[39m\u001b[38;5;124mTry filtering complex metadata from the document using \u001b[39m\u001b[38;5;124m\"\u001b[39m\n\u001b[0;32m    540\u001b[0m         \u001b[38;5;124m\"\u001b[39m\u001b[38;5;124mlangchain_community.vectorstores.utils.filter_complex_metadata.\u001b[39m\u001b[38;5;124m\"\u001b[39m\n\u001b[0;32m    541\u001b[0m     )\n\u001b[1;32m--> 542\u001b[0m     \u001b[38;5;28;01mraise\u001b[39;00m \u001b[38;5;167;01mValueError\u001b[39;00m(e\u001b[38;5;241m.\u001b[39margs[\u001b[38;5;241m0\u001b[39m] \u001b[38;5;241m+\u001b[39m \u001b[38;5;124m\"\u001b[39m\u001b[38;5;130;01m\\n\u001b[39;00m\u001b[38;5;130;01m\\n\u001b[39;00m\u001b[38;5;124m\"\u001b[39m \u001b[38;5;241m+\u001b[39m msg)\n\u001b[0;32m    543\u001b[0m \u001b[38;5;28;01melse\u001b[39;00m:\n\u001b[0;32m    544\u001b[0m     \u001b[38;5;28;01mraise\u001b[39;00m e\n",
      "\u001b[1;31mValueError\u001b[0m: Expected metadata value to be a str, int, float or bool, got [] which is a list\n\nTry filtering complex metadata from the document using langchain_community.vectorstores.utils.filter_complex_metadata."
     ]
    }
   ],
   "source": [
    "from langchain_chroma import Chroma\n",
    "# Use metadata for each document (optional)\n",
    "# Initialize a Chroma vector store (or any other vector store you prefer)\n",
    "#vector_store = Chroma(embedding_function=embedding_adamodel)\n",
    "\n",
    "vector_store = Chroma(embedding_function=embedding_adamodel,persist_directory=\"./chroma_db\")\n",
    "\n",
    "# Store the embeddings in the vector store with their metadata\n",
    "for doc, embedding, metadata in zip(documents, embeddings, metadatas):\n",
    "    vector_store.add_texts(texts=[doc.page_content], metadatas=[metadata], embeddings=[embedding])\n",
    "\n",
    "#store the value\n"
   ]
  },
  {
   "cell_type": "code",
   "execution_count": 64,
   "metadata": {},
   "outputs": [],
   "source": [
    "#  Retrieve vector_store\n",
    "vector_store = Chroma(persist_directory=\"./chroma_db\", embedding_function=embedding_adamodel)"
   ]
  },
  {
   "cell_type": "code",
   "execution_count": 67,
   "metadata": {},
   "outputs": [
    {
     "name": "stderr",
     "output_type": "stream",
     "text": [
      "[nltk_data] Downloading package punkt to\n",
      "[nltk_data]     C:\\Users\\sures\\AppData\\Roaming\\nltk_data...\n",
      "[nltk_data]   Package punkt is already up-to-date!\n",
      "[nltk_data] Downloading package stopwords to\n",
      "[nltk_data]     C:\\Users\\sures\\AppData\\Roaming\\nltk_data...\n",
      "[nltk_data]   Package stopwords is already up-to-date!\n"
     ]
    }
   ],
   "source": [
    "import nltk\n",
    "#import spacy\n",
    "from nltk.tokenize import word_tokenize\n",
    "from nltk.corpus import stopwords\n",
    "import re\n",
    "nltk.download('punkt')\n",
    "nltk.download('stopwords')\n",
    "# Initialize SpaCy model\n",
    "\n",
    "stop_words = set(stopwords.words('english'))\n",
    "common_phrases = {\n",
    "    \"i want to know\", \"can you tell me\", \"could you provide\", \"what is\",\n",
    "    \"please show\", \"give me\", \"let me know\", \"show me\", \"tell me\",\n",
    "    \"provide\", \"please provide\", \"what are the details of\", \"what is the value of\",\n",
    "    \"can you list\", \"how do i find\", \"what’s the name of\", \"what do we call\",\n",
    "    \"do you know\", \"would you be able to tell\", \"how to check\", \"any details on\",\n",
    "    \"what’s the description of\", \"related to the field\", \"field\", \"column\",\n",
    "    \"metadata\", \"attribute\", \"entry\", \"name of the field\", \"physical field\",\n",
    "    \"logical field\", \"column field\", \"value field\", \"for the field\",\n",
    "    \"placeholder phrases\", \"regarding the\", \"based on the\", \"specific to\",\n",
    "    \"related to\", \"in the field of\", \"with the field name\", \"concerning the field\",\n",
    "    \"in the column of\", \"associated with\", \"terms specific to data types\",\n",
    "    \"field data type\", \"data type for\", \"format of\", \"data type\", \"data format\",\n",
    "    \"varchar format\", \"string format\", \"numeric value of\", \"description of\",\n",
    "    \"type of\", \"protection group for\", \"group name of\", \"protection level of\",\n",
    "    \"pg group for\", \"protection group name\", \"security group for\", \"group type of\",\n",
    "    \"group category\", \"that is called\", \"like\", \"such as\", \"could you tell\",\n",
    "    \"could you describe\", \"any information on\", \"description of\", \"what are the\",\n",
    "    \"what is the\", \"list all\", \"details about\",\"for the field\",\"want\", \"know\", \"field\"\n",
    "}\n",
    "\n"
   ]
  },
  {
   "cell_type": "code",
   "execution_count": 68,
   "metadata": {},
   "outputs": [
    {
     "name": "stdout",
     "output_type": "stream",
     "text": [
      "Original Query: I want to know the physical field name for the field customer closing balance amount\n",
      "Cleaned Query: physical name customer closing balance amount\n"
     ]
    }
   ],
   "source": [
    "def clean_query(query):\n",
    "    # Normalize the query by converting to lower case\n",
    "    query = query.lower()\n",
    "    \n",
    "    # Remove any special characters and digits\n",
    "    query = re.sub(r'[^a-zA-Z\\s]', '', query)\n",
    "\n",
    "    # Tokenize the query\n",
    "    tokens = word_tokenize(query)\n",
    "\n",
    "    # Remove common phrases and stopwords from the query\n",
    "    cleaned_tokens = [token for token in tokens if  token not in stop_words and token not in common_phrases]\n",
    "    #  and\n",
    "    # Join the cleaned tokens back into a string\n",
    "    cleaned_query = ' '.join(cleaned_tokens)\n",
    "    \n",
    "    return cleaned_query\n",
    "\n",
    "# Example usage\n",
    "user_query = \"I want to know the physical field name for the field customer closing balance amount\"\n",
    "cleaned_query = clean_query(user_query)\n",
    "\n",
    "print(\"Original Query:\", user_query)\n",
    "print(\"Cleaned Query:\", cleaned_query)"
   ]
  },
  {
   "cell_type": "code",
   "execution_count": 69,
   "metadata": {},
   "outputs": [],
   "source": [
    "def vector_search(query, vector_store, top_k=250):\n",
    "    \"\"\"Perform similarity search based on vector embeddings using space-separated terms.\"\"\"\n",
    "    # Ensure query is a string\n",
    "    if not isinstance(query, str):\n",
    "        raise ValueError(\"Query must be a string.\")\n",
    "\n",
    "    # Split the query into individual terms\n",
    "    terms = query.split()\n",
    "\n",
    "    # Initialize an empty list to collect results\n",
    "    all_results = []\n",
    "    \n",
    "    query_embedding = embedding_adamodel.embed_query(query)\n",
    "    results = vector_store.similarity_search_by_vector(query_embedding, k=top_k)\n",
    "    all_results.extend(results) \n",
    "    print(len(all_results))\n",
    "    # Perform similarity search for each term\n",
    "    for term in terms:\n",
    "        print(type(term))\n",
    "        term=f\"logical_column_name:{term}\"\n",
    "        print(term)\n",
    "        print(type(term))\n",
    "        query_embedding = embedding_adamodel.embed_query(term)\n",
    "      # Search in the vector database for the top_k most similar vectors\n",
    "        results = vector_store.similarity_search_by_vector(query_embedding, k=top_k)\n",
    "        print(term, results)\n",
    "        all_results.extend(results)  # Combine results\n",
    "    print(len(all_results))\n",
    "    # Remove duplicates by converting to a set, then back to a list\n",
    "    present = set()\n",
    "    unique_results = []\n",
    "    exact_matches = set()  # To track exact matches for logical_column_name\n",
    "    \n",
    "    for doc in all_results:\n",
    "        # Create a unique identifier for each Document\n",
    "        identifier = (doc.page_content, frozenset(doc.metadata.items()))  # Using frozenset to make metadata hashable\n",
    "\n",
    "        # Check if it's an exact match on logical_column_name\n",
    "        logical_column_name = doc.metadata.get('logical_column_name', \"\")\n",
    "        if logical_column_name in exact_matches:\n",
    "            continue  # Skip this document if we already have an exact match\n",
    "\n",
    "        # Only add the identifier if it hasn't been seen yet\n",
    "        if identifier not in present:\n",
    "            present.add(identifier)\n",
    "            unique_results.append(doc)\n",
    "            exact_matches.add(logical_column_name)  # Track this exact match\n",
    "\n",
    "    return unique_results\n",
    "    \n",
    "# Example usage\n"
   ]
  },
  {
   "cell_type": "code",
   "execution_count": 70,
   "metadata": {},
   "outputs": [
    {
     "name": "stderr",
     "output_type": "stream",
     "text": [
      "Number of requested results 250 is greater than number of elements in index 33, updating n_results = 33\n"
     ]
    },
    {
     "name": "stdout",
     "output_type": "stream",
     "text": [
      "33\n",
      "<class 'str'>\n",
      "logical_column_name:physical\n",
      "<class 'str'>\n"
     ]
    },
    {
     "name": "stderr",
     "output_type": "stream",
     "text": [
      "Number of requested results 250 is greater than number of elements in index 33, updating n_results = 33\n"
     ]
    },
    {
     "name": "stdout",
     "output_type": "stream",
     "text": [
      "logical_column_name:physical [Document(metadata={'PGGroup': 'PUB', 'data_type': 'Varchar(200)', 'logical_column_name': 'branch location', 'physical_column_name': 'brnch_loc', 'protection_group': 'Public'}, page_content='Table: , Logical Column: branch location, Physical Column: brnch_loc, Data Type: Varchar(200), Protection Group: Public, PG Group: PUB'), Document(metadata={'PGGroup': 'PUB', 'data_type': 'Varchar(200)', 'logical_column_name': 'branch location', 'physical_column_name': 'brnch_loc', 'protection_group': 'Public'}, page_content='Table: , Logical Column: branch location, Physical Column: brnch_loc, Data Type: Varchar(200), Protection Group: Public, PG Group: PUB'), Document(metadata={'PGGroup': 'INTL', 'data_type': 'varchar(255)', 'logical_column_name': 'branch contact number', 'physical_column_name': 'branch_contact', 'protection_group': 'Internal'}, page_content='Table: , Logical Column: branch contact number, Physical Column: branch_contact, Data Type: varchar(255), Protection Group: Internal, PG Group: INTL'), Document(metadata={'PGGroup': 'CNFD', 'data_type': 'integer', 'logical_column_name': 'customer age', 'physical_column_name': 'age', 'protection_group': 'Confidential'}, page_content='Table: , Logical Column: customer age, Physical Column: age, Data Type: integer, Protection Group: Confidential, PG Group: CNFD'), Document(metadata={'PGGroup': 'CNFD', 'data_type': 'integer', 'logical_column_name': 'customer age', 'physical_column_name': 'age', 'protection_group': 'Confidential'}, page_content='Table: , Logical Column: customer age, Physical Column: age, Data Type: integer, Protection Group: Confidential, PG Group: CNFD'), Document(metadata={'PGGroup': 'CNFD', 'data_type': 'decimal(20,3)', 'logical_column_name': 'credit card balance', 'physical_column_name': 'cc_bal', 'protection_group': 'Internal'}, page_content='Table: , Logical Column: credit card balance, Physical Column: cc_bal, Data Type: decimal(20,3), Protection Group: Internal, PG Group: CNFD'), Document(metadata={'PGGroup': 'CNFD', 'data_type': 'decimal(20,3)', 'logical_column_name': 'credit card balance', 'physical_column_name': 'cc_bal', 'protection_group': 'Internal'}, page_content='Table: , Logical Column: credit card balance, Physical Column: cc_bal, Data Type: decimal(20,3), Protection Group: Internal, PG Group: CNFD'), Document(metadata={'PGGroup': 'HICNFD', 'data_type': 'integer', 'logical_column_name': 'customer average salary', 'physical_column_name': 'avg_sal', 'protection_group': 'High Confidential'}, page_content='Table: , Logical Column: customer average salary, Physical Column: avg_sal, Data Type: integer, Protection Group: High Confidential, PG Group: HICNFD'), Document(metadata={'PGGroup': 'HICNFD', 'data_type': 'integer', 'logical_column_name': 'customer average salary', 'physical_column_name': 'avg_sal', 'protection_group': 'High Confidential'}, page_content='Table: , Logical Column: customer average salary, Physical Column: avg_sal, Data Type: integer, Protection Group: High Confidential, PG Group: HICNFD'), Document(metadata={'PGGroup': 'CNFD', 'data_type': 'varchar(255)', 'logical_column_name': 'branch manager', 'physical_column_name': 'brnch_mgr', 'protection_group': 'Confidential'}, page_content='Table: , Logical Column: branch manager, Physical Column: brnch_mgr, Data Type: varchar(255), Protection Group: Confidential, PG Group: CNFD'), Document(metadata={'PGGroup': 'CNFD', 'data_type': 'decimal(10,2)', 'logical_column_name': 'transaction amount', 'physical_column_name': 'trans_amt', 'protection_group': 'Confidential'}, page_content='Table: , Logical Column: transaction amount, Physical Column: trans_amt, Data Type: decimal(10,2), Protection Group: Confidential, PG Group: CNFD'), Document(metadata={'PGGroup': 'CNFD', 'data_type': 'decimal(10,2)', 'logical_column_name': 'transaction amount', 'physical_column_name': 'trans_amt', 'protection_group': 'Confidential'}, page_content='Table: , Logical Column: transaction amount, Physical Column: trans_amt, Data Type: decimal(10,2), Protection Group: Confidential, PG Group: CNFD'), Document(metadata={'PGGroup': 'CNFD', 'data_type': 'integer', 'logical_column_name': 'credit card number', 'physical_column_name': 'cc_num', 'protection_group': 'Confidential'}, page_content='Table: , Logical Column: credit card number, Physical Column: cc_num, Data Type: integer, Protection Group: Confidential, PG Group: CNFD'), Document(metadata={'PGGroup': 'CNFD', 'data_type': 'integer', 'logical_column_name': 'credit card number', 'physical_column_name': 'cc_num', 'protection_group': 'Confidential'}, page_content='Table: , Logical Column: credit card number, Physical Column: cc_num, Data Type: integer, Protection Group: Confidential, PG Group: CNFD'), Document(metadata={'PGGroup': 'INTL', 'data_type': 'DATE', 'logical_column_name': 'transaction date', 'physical_column_name': 'trans_date', 'protection_group': 'Internal'}, page_content='Table: , Logical Column: transaction date, Physical Column: trans_date, Data Type: DATE, Protection Group: Internal, PG Group: INTL'), Document(metadata={'PGGroup': 'INTL', 'data_type': 'DATE', 'logical_column_name': 'transaction date', 'physical_column_name': 'trans_date', 'protection_group': 'Internal'}, page_content='Table: , Logical Column: transaction date, Physical Column: trans_date, Data Type: DATE, Protection Group: Internal, PG Group: INTL'), Document(metadata={'PGGroup': 'RISKSC', 'data_type': 'Varchar(200)', 'logical_column_name': 'branch manager', 'physical_column_name': 'brnch_mgr', 'protection_group': 'RiskScore'}, page_content='Table: , Logical Column: branch manager, Physical Column: brnch_mgr, Data Type: Varchar(200), Protection Group: RiskScore, PG Group: RISKSC'), Document(metadata={'PGGroup': 'RISKSC', 'data_type': 'Varchar(200)', 'logical_column_name': 'branch manager', 'physical_column_name': 'brnch_mgr', 'protection_group': 'RiskScore'}, page_content='Table: , Logical Column: branch manager, Physical Column: brnch_mgr, Data Type: Varchar(200), Protection Group: RiskScore, PG Group: RISKSC'), Document(metadata={'PGGroup': 'CNFD', 'data_type': 'decimal(20,3)', 'logical_column_name': 'customer opening balance amount', 'physical_column_name': 'cust_open_bal_amt', 'protection_group': 'Confidential'}, page_content='Table: , Logical Column: customer opening balance amount, Physical Column: cust_open_bal_amt, Data Type: decimal(20,3), Protection Group: Confidential, PG Group: CNFD'), Document(metadata={'PGGroup': 'CNFD', 'data_type': 'decimal(20,3)', 'logical_column_name': 'customer opening balance amount', 'physical_column_name': 'cust_open_bal_amt', 'protection_group': 'Confidential'}, page_content='Table: , Logical Column: customer opening balance amount, Physical Column: cust_open_bal_amt, Data Type: decimal(20,3), Protection Group: Confidential, PG Group: CNFD'), Document(metadata={'PGGroup': 'CNFD', 'data_type': 'decimal(20,3)', 'logical_column_name': 'loan amount', 'physical_column_name': 'loan_amt', 'protection_group': 'Confidential'}, page_content='Table: , Logical Column: loan amount, Physical Column: loan_amt, Data Type: decimal(20,3), Protection Group: Confidential, PG Group: CNFD'), Document(metadata={'PGGroup': 'CNFD', 'data_type': 'decimal(20,3)', 'logical_column_name': 'loan amount', 'physical_column_name': 'loan_amt', 'protection_group': 'Confidential'}, page_content='Table: , Logical Column: loan amount, Physical Column: loan_amt, Data Type: decimal(20,3), Protection Group: Confidential, PG Group: CNFD'), Document(metadata={'PGGroup': 'CNFD', 'data_type': 'decimal(20,3)', 'logical_column_name': 'customer credit limit', 'physical_column_name': 'cust_crdt_lim', 'protection_group': 'Confidential'}, page_content='Table: , Logical Column: customer credit limit, Physical Column: cust_crdt_lim, Data Type: decimal(20,3), Protection Group: Confidential, PG Group: CNFD'), Document(metadata={'PGGroup': 'CNFD', 'data_type': 'decimal(20,3)', 'logical_column_name': 'customer credit limit', 'physical_column_name': 'cust_crdt_lim', 'protection_group': 'Confidential'}, page_content='Table: , Logical Column: customer credit limit, Physical Column: cust_crdt_lim, Data Type: decimal(20,3), Protection Group: Confidential, PG Group: CNFD'), Document(metadata={'PGGroup': 'CNFD', 'data_type': 'decimal(20,3)', 'logical_column_name': 'transaction fee', 'physical_column_name': 'trans_fee', 'protection_group': 'Confidential'}, page_content='Table: , Logical Column: transaction fee, Physical Column: trans_fee, Data Type: decimal(20,3), Protection Group: Confidential, PG Group: CNFD'), Document(metadata={'PGGroup': 'CNFD', 'data_type': 'decimal(20,3)', 'logical_column_name': 'customer closing balance amount', 'physical_column_name': 'cust_cls_bal_amt', 'protection_group': 'Confidential'}, page_content='Table: , Logical Column: customer closing balance amount, Physical Column: cust_cls_bal_amt, Data Type: decimal(20,3), Protection Group: Confidential, PG Group: CNFD'), Document(metadata={'PGGroup': 'CNFD', 'data_type': 'decimal(20,3)', 'logical_column_name': 'customer closing balance amount', 'physical_column_name': 'cust_cls_bal_amt', 'protection_group': 'Confidential'}, page_content='Table: , Logical Column: customer closing balance amount, Physical Column: cust_cls_bal_amt, Data Type: decimal(20,3), Protection Group: Confidential, PG Group: CNFD'), Document(metadata={'PGGroup': 'CNFD', 'data_type': 'varchar(255)', 'logical_column_name': 'loan approval status', 'physical_column_name': 'loan_approval_sts', 'protection_group': 'Public'}, page_content='Table: , Logical Column: loan approval status, Physical Column: loan_approval_sts, Data Type: varchar(255), Protection Group: Public, PG Group: CNFD'), Document(metadata={'PGGroup': 'CNFD', 'data_type': 'varchar(255)', 'logical_column_name': 'loan approval status', 'physical_column_name': 'loan_approval_sts', 'protection_group': 'Public'}, page_content='Table: , Logical Column: loan approval status, Physical Column: loan_approval_sts, Data Type: varchar(255), Protection Group: Public, PG Group: CNFD'), Document(metadata={'PGGroup': 'INTL', 'data_type': 'decimal(20,3)', 'logical_column_name': 'loan interest rate', 'physical_column_name': 'loan_int_rate', 'protection_group': 'Public'}, page_content='Table: , Logical Column: loan interest rate, Physical Column: loan_int_rate, Data Type: decimal(20,3), Protection Group: Public, PG Group: INTL'), Document(metadata={'PGGroup': 'INTL', 'data_type': 'decimal(20,3)', 'logical_column_name': 'loan interest rate', 'physical_column_name': 'loan_int_rate', 'protection_group': 'Public'}, page_content='Table: , Logical Column: loan interest rate, Physical Column: loan_int_rate, Data Type: decimal(20,3), Protection Group: Public, PG Group: INTL'), Document(metadata={'PGGroup': 'PUB', 'data_type': 'integer', 'logical_column_name': 'credit card expiry', 'physical_column_name': 'cc_exp', 'protection_group': 'Public'}, page_content='Table: , Logical Column: credit card expiry, Physical Column: cc_exp, Data Type: integer, Protection Group: Public, PG Group: PUB'), Document(metadata={'PGGroup': 'PUB', 'data_type': 'integer', 'logical_column_name': 'credit card expiry', 'physical_column_name': 'cc_exp', 'protection_group': 'Public'}, page_content='Table: , Logical Column: credit card expiry, Physical Column: cc_exp, Data Type: integer, Protection Group: Public, PG Group: PUB')]\n",
      "<class 'str'>\n",
      "logical_column_name:name\n",
      "<class 'str'>\n"
     ]
    },
    {
     "name": "stderr",
     "output_type": "stream",
     "text": [
      "Number of requested results 250 is greater than number of elements in index 33, updating n_results = 33\n",
      "Number of requested results 250 is greater than number of elements in index 33, updating n_results = 33\n"
     ]
    },
    {
     "name": "stdout",
     "output_type": "stream",
     "text": [
      "logical_column_name:name [Document(metadata={'PGGroup': 'HICNFD', 'data_type': 'integer', 'logical_column_name': 'customer average salary', 'physical_column_name': 'avg_sal', 'protection_group': 'High Confidential'}, page_content='Table: , Logical Column: customer average salary, Physical Column: avg_sal, Data Type: integer, Protection Group: High Confidential, PG Group: HICNFD'), Document(metadata={'PGGroup': 'HICNFD', 'data_type': 'integer', 'logical_column_name': 'customer average salary', 'physical_column_name': 'avg_sal', 'protection_group': 'High Confidential'}, page_content='Table: , Logical Column: customer average salary, Physical Column: avg_sal, Data Type: integer, Protection Group: High Confidential, PG Group: HICNFD'), Document(metadata={'PGGroup': 'CNFD', 'data_type': 'varchar(255)', 'logical_column_name': 'branch manager', 'physical_column_name': 'brnch_mgr', 'protection_group': 'Confidential'}, page_content='Table: , Logical Column: branch manager, Physical Column: brnch_mgr, Data Type: varchar(255), Protection Group: Confidential, PG Group: CNFD'), Document(metadata={'PGGroup': 'INTL', 'data_type': 'varchar(255)', 'logical_column_name': 'branch contact number', 'physical_column_name': 'branch_contact', 'protection_group': 'Internal'}, page_content='Table: , Logical Column: branch contact number, Physical Column: branch_contact, Data Type: varchar(255), Protection Group: Internal, PG Group: INTL'), Document(metadata={'PGGroup': 'CNFD', 'data_type': 'integer', 'logical_column_name': 'customer age', 'physical_column_name': 'age', 'protection_group': 'Confidential'}, page_content='Table: , Logical Column: customer age, Physical Column: age, Data Type: integer, Protection Group: Confidential, PG Group: CNFD'), Document(metadata={'PGGroup': 'CNFD', 'data_type': 'integer', 'logical_column_name': 'customer age', 'physical_column_name': 'age', 'protection_group': 'Confidential'}, page_content='Table: , Logical Column: customer age, Physical Column: age, Data Type: integer, Protection Group: Confidential, PG Group: CNFD'), Document(metadata={'PGGroup': 'PUB', 'data_type': 'Varchar(200)', 'logical_column_name': 'branch location', 'physical_column_name': 'brnch_loc', 'protection_group': 'Public'}, page_content='Table: , Logical Column: branch location, Physical Column: brnch_loc, Data Type: Varchar(200), Protection Group: Public, PG Group: PUB'), Document(metadata={'PGGroup': 'PUB', 'data_type': 'Varchar(200)', 'logical_column_name': 'branch location', 'physical_column_name': 'brnch_loc', 'protection_group': 'Public'}, page_content='Table: , Logical Column: branch location, Physical Column: brnch_loc, Data Type: Varchar(200), Protection Group: Public, PG Group: PUB'), Document(metadata={'PGGroup': 'RISKSC', 'data_type': 'Varchar(200)', 'logical_column_name': 'branch manager', 'physical_column_name': 'brnch_mgr', 'protection_group': 'RiskScore'}, page_content='Table: , Logical Column: branch manager, Physical Column: brnch_mgr, Data Type: Varchar(200), Protection Group: RiskScore, PG Group: RISKSC'), Document(metadata={'PGGroup': 'RISKSC', 'data_type': 'Varchar(200)', 'logical_column_name': 'branch manager', 'physical_column_name': 'brnch_mgr', 'protection_group': 'RiskScore'}, page_content='Table: , Logical Column: branch manager, Physical Column: brnch_mgr, Data Type: Varchar(200), Protection Group: RiskScore, PG Group: RISKSC'), Document(metadata={'PGGroup': 'CNFD', 'data_type': 'integer', 'logical_column_name': 'credit card number', 'physical_column_name': 'cc_num', 'protection_group': 'Confidential'}, page_content='Table: , Logical Column: credit card number, Physical Column: cc_num, Data Type: integer, Protection Group: Confidential, PG Group: CNFD'), Document(metadata={'PGGroup': 'CNFD', 'data_type': 'integer', 'logical_column_name': 'credit card number', 'physical_column_name': 'cc_num', 'protection_group': 'Confidential'}, page_content='Table: , Logical Column: credit card number, Physical Column: cc_num, Data Type: integer, Protection Group: Confidential, PG Group: CNFD'), Document(metadata={'PGGroup': 'CNFD', 'data_type': 'decimal(20,3)', 'logical_column_name': 'credit card balance', 'physical_column_name': 'cc_bal', 'protection_group': 'Internal'}, page_content='Table: , Logical Column: credit card balance, Physical Column: cc_bal, Data Type: decimal(20,3), Protection Group: Internal, PG Group: CNFD'), Document(metadata={'PGGroup': 'CNFD', 'data_type': 'decimal(20,3)', 'logical_column_name': 'credit card balance', 'physical_column_name': 'cc_bal', 'protection_group': 'Internal'}, page_content='Table: , Logical Column: credit card balance, Physical Column: cc_bal, Data Type: decimal(20,3), Protection Group: Internal, PG Group: CNFD'), Document(metadata={'PGGroup': 'CNFD', 'data_type': 'decimal(20,3)', 'logical_column_name': 'customer opening balance amount', 'physical_column_name': 'cust_open_bal_amt', 'protection_group': 'Confidential'}, page_content='Table: , Logical Column: customer opening balance amount, Physical Column: cust_open_bal_amt, Data Type: decimal(20,3), Protection Group: Confidential, PG Group: CNFD'), Document(metadata={'PGGroup': 'CNFD', 'data_type': 'decimal(20,3)', 'logical_column_name': 'customer opening balance amount', 'physical_column_name': 'cust_open_bal_amt', 'protection_group': 'Confidential'}, page_content='Table: , Logical Column: customer opening balance amount, Physical Column: cust_open_bal_amt, Data Type: decimal(20,3), Protection Group: Confidential, PG Group: CNFD'), Document(metadata={'PGGroup': 'CNFD', 'data_type': 'decimal(20,3)', 'logical_column_name': 'loan amount', 'physical_column_name': 'loan_amt', 'protection_group': 'Confidential'}, page_content='Table: , Logical Column: loan amount, Physical Column: loan_amt, Data Type: decimal(20,3), Protection Group: Confidential, PG Group: CNFD'), Document(metadata={'PGGroup': 'CNFD', 'data_type': 'decimal(20,3)', 'logical_column_name': 'loan amount', 'physical_column_name': 'loan_amt', 'protection_group': 'Confidential'}, page_content='Table: , Logical Column: loan amount, Physical Column: loan_amt, Data Type: decimal(20,3), Protection Group: Confidential, PG Group: CNFD'), Document(metadata={'PGGroup': 'CNFD', 'data_type': 'varchar(255)', 'logical_column_name': 'loan approval status', 'physical_column_name': 'loan_approval_sts', 'protection_group': 'Public'}, page_content='Table: , Logical Column: loan approval status, Physical Column: loan_approval_sts, Data Type: varchar(255), Protection Group: Public, PG Group: CNFD'), Document(metadata={'PGGroup': 'CNFD', 'data_type': 'varchar(255)', 'logical_column_name': 'loan approval status', 'physical_column_name': 'loan_approval_sts', 'protection_group': 'Public'}, page_content='Table: , Logical Column: loan approval status, Physical Column: loan_approval_sts, Data Type: varchar(255), Protection Group: Public, PG Group: CNFD'), Document(metadata={'PGGroup': 'CNFD', 'data_type': 'decimal(10,2)', 'logical_column_name': 'transaction amount', 'physical_column_name': 'trans_amt', 'protection_group': 'Confidential'}, page_content='Table: , Logical Column: transaction amount, Physical Column: trans_amt, Data Type: decimal(10,2), Protection Group: Confidential, PG Group: CNFD'), Document(metadata={'PGGroup': 'CNFD', 'data_type': 'decimal(10,2)', 'logical_column_name': 'transaction amount', 'physical_column_name': 'trans_amt', 'protection_group': 'Confidential'}, page_content='Table: , Logical Column: transaction amount, Physical Column: trans_amt, Data Type: decimal(10,2), Protection Group: Confidential, PG Group: CNFD'), Document(metadata={'PGGroup': 'CNFD', 'data_type': 'decimal(20,3)', 'logical_column_name': 'customer credit limit', 'physical_column_name': 'cust_crdt_lim', 'protection_group': 'Confidential'}, page_content='Table: , Logical Column: customer credit limit, Physical Column: cust_crdt_lim, Data Type: decimal(20,3), Protection Group: Confidential, PG Group: CNFD'), Document(metadata={'PGGroup': 'CNFD', 'data_type': 'decimal(20,3)', 'logical_column_name': 'customer credit limit', 'physical_column_name': 'cust_crdt_lim', 'protection_group': 'Confidential'}, page_content='Table: , Logical Column: customer credit limit, Physical Column: cust_crdt_lim, Data Type: decimal(20,3), Protection Group: Confidential, PG Group: CNFD'), Document(metadata={'PGGroup': 'CNFD', 'data_type': 'decimal(20,3)', 'logical_column_name': 'customer closing balance amount', 'physical_column_name': 'cust_cls_bal_amt', 'protection_group': 'Confidential'}, page_content='Table: , Logical Column: customer closing balance amount, Physical Column: cust_cls_bal_amt, Data Type: decimal(20,3), Protection Group: Confidential, PG Group: CNFD'), Document(metadata={'PGGroup': 'CNFD', 'data_type': 'decimal(20,3)', 'logical_column_name': 'customer closing balance amount', 'physical_column_name': 'cust_cls_bal_amt', 'protection_group': 'Confidential'}, page_content='Table: , Logical Column: customer closing balance amount, Physical Column: cust_cls_bal_amt, Data Type: decimal(20,3), Protection Group: Confidential, PG Group: CNFD'), Document(metadata={'PGGroup': 'INTL', 'data_type': 'DATE', 'logical_column_name': 'transaction date', 'physical_column_name': 'trans_date', 'protection_group': 'Internal'}, page_content='Table: , Logical Column: transaction date, Physical Column: trans_date, Data Type: DATE, Protection Group: Internal, PG Group: INTL'), Document(metadata={'PGGroup': 'INTL', 'data_type': 'DATE', 'logical_column_name': 'transaction date', 'physical_column_name': 'trans_date', 'protection_group': 'Internal'}, page_content='Table: , Logical Column: transaction date, Physical Column: trans_date, Data Type: DATE, Protection Group: Internal, PG Group: INTL'), Document(metadata={'PGGroup': 'INTL', 'data_type': 'decimal(20,3)', 'logical_column_name': 'loan interest rate', 'physical_column_name': 'loan_int_rate', 'protection_group': 'Public'}, page_content='Table: , Logical Column: loan interest rate, Physical Column: loan_int_rate, Data Type: decimal(20,3), Protection Group: Public, PG Group: INTL'), Document(metadata={'PGGroup': 'INTL', 'data_type': 'decimal(20,3)', 'logical_column_name': 'loan interest rate', 'physical_column_name': 'loan_int_rate', 'protection_group': 'Public'}, page_content='Table: , Logical Column: loan interest rate, Physical Column: loan_int_rate, Data Type: decimal(20,3), Protection Group: Public, PG Group: INTL'), Document(metadata={'PGGroup': 'CNFD', 'data_type': 'decimal(20,3)', 'logical_column_name': 'transaction fee', 'physical_column_name': 'trans_fee', 'protection_group': 'Confidential'}, page_content='Table: , Logical Column: transaction fee, Physical Column: trans_fee, Data Type: decimal(20,3), Protection Group: Confidential, PG Group: CNFD'), Document(metadata={'PGGroup': 'PUB', 'data_type': 'integer', 'logical_column_name': 'credit card expiry', 'physical_column_name': 'cc_exp', 'protection_group': 'Public'}, page_content='Table: , Logical Column: credit card expiry, Physical Column: cc_exp, Data Type: integer, Protection Group: Public, PG Group: PUB'), Document(metadata={'PGGroup': 'PUB', 'data_type': 'integer', 'logical_column_name': 'credit card expiry', 'physical_column_name': 'cc_exp', 'protection_group': 'Public'}, page_content='Table: , Logical Column: credit card expiry, Physical Column: cc_exp, Data Type: integer, Protection Group: Public, PG Group: PUB')]\n",
      "<class 'str'>\n",
      "logical_column_name:customer\n",
      "<class 'str'>\n",
      "logical_column_name:customer [Document(metadata={'PGGroup': 'CNFD', 'data_type': 'decimal(20,3)', 'logical_column_name': 'customer credit limit', 'physical_column_name': 'cust_crdt_lim', 'protection_group': 'Confidential'}, page_content='Table: , Logical Column: customer credit limit, Physical Column: cust_crdt_lim, Data Type: decimal(20,3), Protection Group: Confidential, PG Group: CNFD'), Document(metadata={'PGGroup': 'CNFD', 'data_type': 'decimal(20,3)', 'logical_column_name': 'customer credit limit', 'physical_column_name': 'cust_crdt_lim', 'protection_group': 'Confidential'}, page_content='Table: , Logical Column: customer credit limit, Physical Column: cust_crdt_lim, Data Type: decimal(20,3), Protection Group: Confidential, PG Group: CNFD'), Document(metadata={'PGGroup': 'CNFD', 'data_type': 'integer', 'logical_column_name': 'customer age', 'physical_column_name': 'age', 'protection_group': 'Confidential'}, page_content='Table: , Logical Column: customer age, Physical Column: age, Data Type: integer, Protection Group: Confidential, PG Group: CNFD'), Document(metadata={'PGGroup': 'CNFD', 'data_type': 'integer', 'logical_column_name': 'customer age', 'physical_column_name': 'age', 'protection_group': 'Confidential'}, page_content='Table: , Logical Column: customer age, Physical Column: age, Data Type: integer, Protection Group: Confidential, PG Group: CNFD'), Document(metadata={'PGGroup': 'CNFD', 'data_type': 'decimal(20,3)', 'logical_column_name': 'customer opening balance amount', 'physical_column_name': 'cust_open_bal_amt', 'protection_group': 'Confidential'}, page_content='Table: , Logical Column: customer opening balance amount, Physical Column: cust_open_bal_amt, Data Type: decimal(20,3), Protection Group: Confidential, PG Group: CNFD'), Document(metadata={'PGGroup': 'CNFD', 'data_type': 'decimal(20,3)', 'logical_column_name': 'customer opening balance amount', 'physical_column_name': 'cust_open_bal_amt', 'protection_group': 'Confidential'}, page_content='Table: , Logical Column: customer opening balance amount, Physical Column: cust_open_bal_amt, Data Type: decimal(20,3), Protection Group: Confidential, PG Group: CNFD'), Document(metadata={'PGGroup': 'HICNFD', 'data_type': 'integer', 'logical_column_name': 'customer average salary', 'physical_column_name': 'avg_sal', 'protection_group': 'High Confidential'}, page_content='Table: , Logical Column: customer average salary, Physical Column: avg_sal, Data Type: integer, Protection Group: High Confidential, PG Group: HICNFD'), Document(metadata={'PGGroup': 'HICNFD', 'data_type': 'integer', 'logical_column_name': 'customer average salary', 'physical_column_name': 'avg_sal', 'protection_group': 'High Confidential'}, page_content='Table: , Logical Column: customer average salary, Physical Column: avg_sal, Data Type: integer, Protection Group: High Confidential, PG Group: HICNFD'), Document(metadata={'PGGroup': 'CNFD', 'data_type': 'decimal(20,3)', 'logical_column_name': 'customer closing balance amount', 'physical_column_name': 'cust_cls_bal_amt', 'protection_group': 'Confidential'}, page_content='Table: , Logical Column: customer closing balance amount, Physical Column: cust_cls_bal_amt, Data Type: decimal(20,3), Protection Group: Confidential, PG Group: CNFD'), Document(metadata={'PGGroup': 'CNFD', 'data_type': 'decimal(20,3)', 'logical_column_name': 'customer closing balance amount', 'physical_column_name': 'cust_cls_bal_amt', 'protection_group': 'Confidential'}, page_content='Table: , Logical Column: customer closing balance amount, Physical Column: cust_cls_bal_amt, Data Type: decimal(20,3), Protection Group: Confidential, PG Group: CNFD'), Document(metadata={'PGGroup': 'CNFD', 'data_type': 'decimal(20,3)', 'logical_column_name': 'credit card balance', 'physical_column_name': 'cc_bal', 'protection_group': 'Internal'}, page_content='Table: , Logical Column: credit card balance, Physical Column: cc_bal, Data Type: decimal(20,3), Protection Group: Internal, PG Group: CNFD'), Document(metadata={'PGGroup': 'CNFD', 'data_type': 'decimal(20,3)', 'logical_column_name': 'credit card balance', 'physical_column_name': 'cc_bal', 'protection_group': 'Internal'}, page_content='Table: , Logical Column: credit card balance, Physical Column: cc_bal, Data Type: decimal(20,3), Protection Group: Internal, PG Group: CNFD'), Document(metadata={'PGGroup': 'CNFD', 'data_type': 'integer', 'logical_column_name': 'credit card number', 'physical_column_name': 'cc_num', 'protection_group': 'Confidential'}, page_content='Table: , Logical Column: credit card number, Physical Column: cc_num, Data Type: integer, Protection Group: Confidential, PG Group: CNFD'), Document(metadata={'PGGroup': 'CNFD', 'data_type': 'integer', 'logical_column_name': 'credit card number', 'physical_column_name': 'cc_num', 'protection_group': 'Confidential'}, page_content='Table: , Logical Column: credit card number, Physical Column: cc_num, Data Type: integer, Protection Group: Confidential, PG Group: CNFD'), Document(metadata={'PGGroup': 'INTL', 'data_type': 'varchar(255)', 'logical_column_name': 'branch contact number', 'physical_column_name': 'branch_contact', 'protection_group': 'Internal'}, page_content='Table: , Logical Column: branch contact number, Physical Column: branch_contact, Data Type: varchar(255), Protection Group: Internal, PG Group: INTL'), Document(metadata={'PGGroup': 'CNFD', 'data_type': 'varchar(255)', 'logical_column_name': 'branch manager', 'physical_column_name': 'brnch_mgr', 'protection_group': 'Confidential'}, page_content='Table: , Logical Column: branch manager, Physical Column: brnch_mgr, Data Type: varchar(255), Protection Group: Confidential, PG Group: CNFD'), Document(metadata={'PGGroup': 'RISKSC', 'data_type': 'Varchar(200)', 'logical_column_name': 'branch manager', 'physical_column_name': 'brnch_mgr', 'protection_group': 'RiskScore'}, page_content='Table: , Logical Column: branch manager, Physical Column: brnch_mgr, Data Type: Varchar(200), Protection Group: RiskScore, PG Group: RISKSC'), Document(metadata={'PGGroup': 'RISKSC', 'data_type': 'Varchar(200)', 'logical_column_name': 'branch manager', 'physical_column_name': 'brnch_mgr', 'protection_group': 'RiskScore'}, page_content='Table: , Logical Column: branch manager, Physical Column: brnch_mgr, Data Type: Varchar(200), Protection Group: RiskScore, PG Group: RISKSC'), Document(metadata={'PGGroup': 'CNFD', 'data_type': 'decimal(20,3)', 'logical_column_name': 'loan amount', 'physical_column_name': 'loan_amt', 'protection_group': 'Confidential'}, page_content='Table: , Logical Column: loan amount, Physical Column: loan_amt, Data Type: decimal(20,3), Protection Group: Confidential, PG Group: CNFD'), Document(metadata={'PGGroup': 'CNFD', 'data_type': 'decimal(20,3)', 'logical_column_name': 'loan amount', 'physical_column_name': 'loan_amt', 'protection_group': 'Confidential'}, page_content='Table: , Logical Column: loan amount, Physical Column: loan_amt, Data Type: decimal(20,3), Protection Group: Confidential, PG Group: CNFD'), Document(metadata={'PGGroup': 'CNFD', 'data_type': 'decimal(10,2)', 'logical_column_name': 'transaction amount', 'physical_column_name': 'trans_amt', 'protection_group': 'Confidential'}, page_content='Table: , Logical Column: transaction amount, Physical Column: trans_amt, Data Type: decimal(10,2), Protection Group: Confidential, PG Group: CNFD'), Document(metadata={'PGGroup': 'CNFD', 'data_type': 'decimal(10,2)', 'logical_column_name': 'transaction amount', 'physical_column_name': 'trans_amt', 'protection_group': 'Confidential'}, page_content='Table: , Logical Column: transaction amount, Physical Column: trans_amt, Data Type: decimal(10,2), Protection Group: Confidential, PG Group: CNFD'), Document(metadata={'PGGroup': 'INTL', 'data_type': 'decimal(20,3)', 'logical_column_name': 'loan interest rate', 'physical_column_name': 'loan_int_rate', 'protection_group': 'Public'}, page_content='Table: , Logical Column: loan interest rate, Physical Column: loan_int_rate, Data Type: decimal(20,3), Protection Group: Public, PG Group: INTL'), Document(metadata={'PGGroup': 'INTL', 'data_type': 'decimal(20,3)', 'logical_column_name': 'loan interest rate', 'physical_column_name': 'loan_int_rate', 'protection_group': 'Public'}, page_content='Table: , Logical Column: loan interest rate, Physical Column: loan_int_rate, Data Type: decimal(20,3), Protection Group: Public, PG Group: INTL'), Document(metadata={'PGGroup': 'CNFD', 'data_type': 'varchar(255)', 'logical_column_name': 'loan approval status', 'physical_column_name': 'loan_approval_sts', 'protection_group': 'Public'}, page_content='Table: , Logical Column: loan approval status, Physical Column: loan_approval_sts, Data Type: varchar(255), Protection Group: Public, PG Group: CNFD'), Document(metadata={'PGGroup': 'CNFD', 'data_type': 'varchar(255)', 'logical_column_name': 'loan approval status', 'physical_column_name': 'loan_approval_sts', 'protection_group': 'Public'}, page_content='Table: , Logical Column: loan approval status, Physical Column: loan_approval_sts, Data Type: varchar(255), Protection Group: Public, PG Group: CNFD'), Document(metadata={'PGGroup': 'PUB', 'data_type': 'Varchar(200)', 'logical_column_name': 'branch location', 'physical_column_name': 'brnch_loc', 'protection_group': 'Public'}, page_content='Table: , Logical Column: branch location, Physical Column: brnch_loc, Data Type: Varchar(200), Protection Group: Public, PG Group: PUB'), Document(metadata={'PGGroup': 'PUB', 'data_type': 'Varchar(200)', 'logical_column_name': 'branch location', 'physical_column_name': 'brnch_loc', 'protection_group': 'Public'}, page_content='Table: , Logical Column: branch location, Physical Column: brnch_loc, Data Type: Varchar(200), Protection Group: Public, PG Group: PUB'), Document(metadata={'PGGroup': 'PUB', 'data_type': 'integer', 'logical_column_name': 'credit card expiry', 'physical_column_name': 'cc_exp', 'protection_group': 'Public'}, page_content='Table: , Logical Column: credit card expiry, Physical Column: cc_exp, Data Type: integer, Protection Group: Public, PG Group: PUB'), Document(metadata={'PGGroup': 'PUB', 'data_type': 'integer', 'logical_column_name': 'credit card expiry', 'physical_column_name': 'cc_exp', 'protection_group': 'Public'}, page_content='Table: , Logical Column: credit card expiry, Physical Column: cc_exp, Data Type: integer, Protection Group: Public, PG Group: PUB'), Document(metadata={'PGGroup': 'INTL', 'data_type': 'DATE', 'logical_column_name': 'transaction date', 'physical_column_name': 'trans_date', 'protection_group': 'Internal'}, page_content='Table: , Logical Column: transaction date, Physical Column: trans_date, Data Type: DATE, Protection Group: Internal, PG Group: INTL'), Document(metadata={'PGGroup': 'INTL', 'data_type': 'DATE', 'logical_column_name': 'transaction date', 'physical_column_name': 'trans_date', 'protection_group': 'Internal'}, page_content='Table: , Logical Column: transaction date, Physical Column: trans_date, Data Type: DATE, Protection Group: Internal, PG Group: INTL'), Document(metadata={'PGGroup': 'CNFD', 'data_type': 'decimal(20,3)', 'logical_column_name': 'transaction fee', 'physical_column_name': 'trans_fee', 'protection_group': 'Confidential'}, page_content='Table: , Logical Column: transaction fee, Physical Column: trans_fee, Data Type: decimal(20,3), Protection Group: Confidential, PG Group: CNFD')]\n",
      "<class 'str'>\n",
      "logical_column_name:closing\n",
      "<class 'str'>\n"
     ]
    },
    {
     "name": "stderr",
     "output_type": "stream",
     "text": [
      "Number of requested results 250 is greater than number of elements in index 33, updating n_results = 33\n"
     ]
    },
    {
     "name": "stdout",
     "output_type": "stream",
     "text": [
      "logical_column_name:closing [Document(metadata={'PGGroup': 'CNFD', 'data_type': 'decimal(20,3)', 'logical_column_name': 'customer closing balance amount', 'physical_column_name': 'cust_cls_bal_amt', 'protection_group': 'Confidential'}, page_content='Table: , Logical Column: customer closing balance amount, Physical Column: cust_cls_bal_amt, Data Type: decimal(20,3), Protection Group: Confidential, PG Group: CNFD'), Document(metadata={'PGGroup': 'CNFD', 'data_type': 'decimal(20,3)', 'logical_column_name': 'customer closing balance amount', 'physical_column_name': 'cust_cls_bal_amt', 'protection_group': 'Confidential'}, page_content='Table: , Logical Column: customer closing balance amount, Physical Column: cust_cls_bal_amt, Data Type: decimal(20,3), Protection Group: Confidential, PG Group: CNFD'), Document(metadata={'PGGroup': 'CNFD', 'data_type': 'decimal(20,3)', 'logical_column_name': 'customer opening balance amount', 'physical_column_name': 'cust_open_bal_amt', 'protection_group': 'Confidential'}, page_content='Table: , Logical Column: customer opening balance amount, Physical Column: cust_open_bal_amt, Data Type: decimal(20,3), Protection Group: Confidential, PG Group: CNFD'), Document(metadata={'PGGroup': 'CNFD', 'data_type': 'decimal(20,3)', 'logical_column_name': 'customer opening balance amount', 'physical_column_name': 'cust_open_bal_amt', 'protection_group': 'Confidential'}, page_content='Table: , Logical Column: customer opening balance amount, Physical Column: cust_open_bal_amt, Data Type: decimal(20,3), Protection Group: Confidential, PG Group: CNFD'), Document(metadata={'PGGroup': 'CNFD', 'data_type': 'decimal(20,3)', 'logical_column_name': 'credit card balance', 'physical_column_name': 'cc_bal', 'protection_group': 'Internal'}, page_content='Table: , Logical Column: credit card balance, Physical Column: cc_bal, Data Type: decimal(20,3), Protection Group: Internal, PG Group: CNFD'), Document(metadata={'PGGroup': 'CNFD', 'data_type': 'decimal(20,3)', 'logical_column_name': 'credit card balance', 'physical_column_name': 'cc_bal', 'protection_group': 'Internal'}, page_content='Table: , Logical Column: credit card balance, Physical Column: cc_bal, Data Type: decimal(20,3), Protection Group: Internal, PG Group: CNFD'), Document(metadata={'PGGroup': 'CNFD', 'data_type': 'decimal(20,3)', 'logical_column_name': 'customer credit limit', 'physical_column_name': 'cust_crdt_lim', 'protection_group': 'Confidential'}, page_content='Table: , Logical Column: customer credit limit, Physical Column: cust_crdt_lim, Data Type: decimal(20,3), Protection Group: Confidential, PG Group: CNFD'), Document(metadata={'PGGroup': 'CNFD', 'data_type': 'decimal(20,3)', 'logical_column_name': 'customer credit limit', 'physical_column_name': 'cust_crdt_lim', 'protection_group': 'Confidential'}, page_content='Table: , Logical Column: customer credit limit, Physical Column: cust_crdt_lim, Data Type: decimal(20,3), Protection Group: Confidential, PG Group: CNFD'), Document(metadata={'PGGroup': 'HICNFD', 'data_type': 'integer', 'logical_column_name': 'customer average salary', 'physical_column_name': 'avg_sal', 'protection_group': 'High Confidential'}, page_content='Table: , Logical Column: customer average salary, Physical Column: avg_sal, Data Type: integer, Protection Group: High Confidential, PG Group: HICNFD'), Document(metadata={'PGGroup': 'HICNFD', 'data_type': 'integer', 'logical_column_name': 'customer average salary', 'physical_column_name': 'avg_sal', 'protection_group': 'High Confidential'}, page_content='Table: , Logical Column: customer average salary, Physical Column: avg_sal, Data Type: integer, Protection Group: High Confidential, PG Group: HICNFD'), Document(metadata={'PGGroup': 'CNFD', 'data_type': 'varchar(255)', 'logical_column_name': 'branch manager', 'physical_column_name': 'brnch_mgr', 'protection_group': 'Confidential'}, page_content='Table: , Logical Column: branch manager, Physical Column: brnch_mgr, Data Type: varchar(255), Protection Group: Confidential, PG Group: CNFD'), Document(metadata={'PGGroup': 'CNFD', 'data_type': 'decimal(20,3)', 'logical_column_name': 'loan amount', 'physical_column_name': 'loan_amt', 'protection_group': 'Confidential'}, page_content='Table: , Logical Column: loan amount, Physical Column: loan_amt, Data Type: decimal(20,3), Protection Group: Confidential, PG Group: CNFD'), Document(metadata={'PGGroup': 'CNFD', 'data_type': 'decimal(20,3)', 'logical_column_name': 'loan amount', 'physical_column_name': 'loan_amt', 'protection_group': 'Confidential'}, page_content='Table: , Logical Column: loan amount, Physical Column: loan_amt, Data Type: decimal(20,3), Protection Group: Confidential, PG Group: CNFD'), Document(metadata={'PGGroup': 'CNFD', 'data_type': 'decimal(10,2)', 'logical_column_name': 'transaction amount', 'physical_column_name': 'trans_amt', 'protection_group': 'Confidential'}, page_content='Table: , Logical Column: transaction amount, Physical Column: trans_amt, Data Type: decimal(10,2), Protection Group: Confidential, PG Group: CNFD'), Document(metadata={'PGGroup': 'CNFD', 'data_type': 'decimal(10,2)', 'logical_column_name': 'transaction amount', 'physical_column_name': 'trans_amt', 'protection_group': 'Confidential'}, page_content='Table: , Logical Column: transaction amount, Physical Column: trans_amt, Data Type: decimal(10,2), Protection Group: Confidential, PG Group: CNFD'), Document(metadata={'PGGroup': 'CNFD', 'data_type': 'integer', 'logical_column_name': 'credit card number', 'physical_column_name': 'cc_num', 'protection_group': 'Confidential'}, page_content='Table: , Logical Column: credit card number, Physical Column: cc_num, Data Type: integer, Protection Group: Confidential, PG Group: CNFD'), Document(metadata={'PGGroup': 'CNFD', 'data_type': 'integer', 'logical_column_name': 'credit card number', 'physical_column_name': 'cc_num', 'protection_group': 'Confidential'}, page_content='Table: , Logical Column: credit card number, Physical Column: cc_num, Data Type: integer, Protection Group: Confidential, PG Group: CNFD'), Document(metadata={'PGGroup': 'CNFD', 'data_type': 'integer', 'logical_column_name': 'customer age', 'physical_column_name': 'age', 'protection_group': 'Confidential'}, page_content='Table: , Logical Column: customer age, Physical Column: age, Data Type: integer, Protection Group: Confidential, PG Group: CNFD'), Document(metadata={'PGGroup': 'CNFD', 'data_type': 'integer', 'logical_column_name': 'customer age', 'physical_column_name': 'age', 'protection_group': 'Confidential'}, page_content='Table: , Logical Column: customer age, Physical Column: age, Data Type: integer, Protection Group: Confidential, PG Group: CNFD'), Document(metadata={'PGGroup': 'CNFD', 'data_type': 'varchar(255)', 'logical_column_name': 'loan approval status', 'physical_column_name': 'loan_approval_sts', 'protection_group': 'Public'}, page_content='Table: , Logical Column: loan approval status, Physical Column: loan_approval_sts, Data Type: varchar(255), Protection Group: Public, PG Group: CNFD'), Document(metadata={'PGGroup': 'CNFD', 'data_type': 'varchar(255)', 'logical_column_name': 'loan approval status', 'physical_column_name': 'loan_approval_sts', 'protection_group': 'Public'}, page_content='Table: , Logical Column: loan approval status, Physical Column: loan_approval_sts, Data Type: varchar(255), Protection Group: Public, PG Group: CNFD'), Document(metadata={'PGGroup': 'RISKSC', 'data_type': 'Varchar(200)', 'logical_column_name': 'branch manager', 'physical_column_name': 'brnch_mgr', 'protection_group': 'RiskScore'}, page_content='Table: , Logical Column: branch manager, Physical Column: brnch_mgr, Data Type: Varchar(200), Protection Group: RiskScore, PG Group: RISKSC'), Document(metadata={'PGGroup': 'RISKSC', 'data_type': 'Varchar(200)', 'logical_column_name': 'branch manager', 'physical_column_name': 'brnch_mgr', 'protection_group': 'RiskScore'}, page_content='Table: , Logical Column: branch manager, Physical Column: brnch_mgr, Data Type: Varchar(200), Protection Group: RiskScore, PG Group: RISKSC'), Document(metadata={'PGGroup': 'PUB', 'data_type': 'Varchar(200)', 'logical_column_name': 'branch location', 'physical_column_name': 'brnch_loc', 'protection_group': 'Public'}, page_content='Table: , Logical Column: branch location, Physical Column: brnch_loc, Data Type: Varchar(200), Protection Group: Public, PG Group: PUB'), Document(metadata={'PGGroup': 'PUB', 'data_type': 'Varchar(200)', 'logical_column_name': 'branch location', 'physical_column_name': 'brnch_loc', 'protection_group': 'Public'}, page_content='Table: , Logical Column: branch location, Physical Column: brnch_loc, Data Type: Varchar(200), Protection Group: Public, PG Group: PUB'), Document(metadata={'PGGroup': 'INTL', 'data_type': 'varchar(255)', 'logical_column_name': 'branch contact number', 'physical_column_name': 'branch_contact', 'protection_group': 'Internal'}, page_content='Table: , Logical Column: branch contact number, Physical Column: branch_contact, Data Type: varchar(255), Protection Group: Internal, PG Group: INTL'), Document(metadata={'PGGroup': 'INTL', 'data_type': 'DATE', 'logical_column_name': 'transaction date', 'physical_column_name': 'trans_date', 'protection_group': 'Internal'}, page_content='Table: , Logical Column: transaction date, Physical Column: trans_date, Data Type: DATE, Protection Group: Internal, PG Group: INTL'), Document(metadata={'PGGroup': 'INTL', 'data_type': 'DATE', 'logical_column_name': 'transaction date', 'physical_column_name': 'trans_date', 'protection_group': 'Internal'}, page_content='Table: , Logical Column: transaction date, Physical Column: trans_date, Data Type: DATE, Protection Group: Internal, PG Group: INTL'), Document(metadata={'PGGroup': 'PUB', 'data_type': 'integer', 'logical_column_name': 'credit card expiry', 'physical_column_name': 'cc_exp', 'protection_group': 'Public'}, page_content='Table: , Logical Column: credit card expiry, Physical Column: cc_exp, Data Type: integer, Protection Group: Public, PG Group: PUB'), Document(metadata={'PGGroup': 'PUB', 'data_type': 'integer', 'logical_column_name': 'credit card expiry', 'physical_column_name': 'cc_exp', 'protection_group': 'Public'}, page_content='Table: , Logical Column: credit card expiry, Physical Column: cc_exp, Data Type: integer, Protection Group: Public, PG Group: PUB'), Document(metadata={'PGGroup': 'INTL', 'data_type': 'decimal(20,3)', 'logical_column_name': 'loan interest rate', 'physical_column_name': 'loan_int_rate', 'protection_group': 'Public'}, page_content='Table: , Logical Column: loan interest rate, Physical Column: loan_int_rate, Data Type: decimal(20,3), Protection Group: Public, PG Group: INTL'), Document(metadata={'PGGroup': 'INTL', 'data_type': 'decimal(20,3)', 'logical_column_name': 'loan interest rate', 'physical_column_name': 'loan_int_rate', 'protection_group': 'Public'}, page_content='Table: , Logical Column: loan interest rate, Physical Column: loan_int_rate, Data Type: decimal(20,3), Protection Group: Public, PG Group: INTL'), Document(metadata={'PGGroup': 'CNFD', 'data_type': 'decimal(20,3)', 'logical_column_name': 'transaction fee', 'physical_column_name': 'trans_fee', 'protection_group': 'Confidential'}, page_content='Table: , Logical Column: transaction fee, Physical Column: trans_fee, Data Type: decimal(20,3), Protection Group: Confidential, PG Group: CNFD')]\n",
      "<class 'str'>\n",
      "logical_column_name:balance\n",
      "<class 'str'>\n"
     ]
    },
    {
     "name": "stderr",
     "output_type": "stream",
     "text": [
      "Number of requested results 250 is greater than number of elements in index 33, updating n_results = 33\n"
     ]
    },
    {
     "name": "stdout",
     "output_type": "stream",
     "text": [
      "logical_column_name:balance [Document(metadata={'PGGroup': 'CNFD', 'data_type': 'decimal(20,3)', 'logical_column_name': 'credit card balance', 'physical_column_name': 'cc_bal', 'protection_group': 'Internal'}, page_content='Table: , Logical Column: credit card balance, Physical Column: cc_bal, Data Type: decimal(20,3), Protection Group: Internal, PG Group: CNFD'), Document(metadata={'PGGroup': 'CNFD', 'data_type': 'decimal(20,3)', 'logical_column_name': 'credit card balance', 'physical_column_name': 'cc_bal', 'protection_group': 'Internal'}, page_content='Table: , Logical Column: credit card balance, Physical Column: cc_bal, Data Type: decimal(20,3), Protection Group: Internal, PG Group: CNFD'), Document(metadata={'PGGroup': 'CNFD', 'data_type': 'decimal(20,3)', 'logical_column_name': 'customer opening balance amount', 'physical_column_name': 'cust_open_bal_amt', 'protection_group': 'Confidential'}, page_content='Table: , Logical Column: customer opening balance amount, Physical Column: cust_open_bal_amt, Data Type: decimal(20,3), Protection Group: Confidential, PG Group: CNFD'), Document(metadata={'PGGroup': 'CNFD', 'data_type': 'decimal(20,3)', 'logical_column_name': 'customer opening balance amount', 'physical_column_name': 'cust_open_bal_amt', 'protection_group': 'Confidential'}, page_content='Table: , Logical Column: customer opening balance amount, Physical Column: cust_open_bal_amt, Data Type: decimal(20,3), Protection Group: Confidential, PG Group: CNFD'), Document(metadata={'PGGroup': 'CNFD', 'data_type': 'decimal(20,3)', 'logical_column_name': 'customer closing balance amount', 'physical_column_name': 'cust_cls_bal_amt', 'protection_group': 'Confidential'}, page_content='Table: , Logical Column: customer closing balance amount, Physical Column: cust_cls_bal_amt, Data Type: decimal(20,3), Protection Group: Confidential, PG Group: CNFD'), Document(metadata={'PGGroup': 'CNFD', 'data_type': 'decimal(20,3)', 'logical_column_name': 'customer closing balance amount', 'physical_column_name': 'cust_cls_bal_amt', 'protection_group': 'Confidential'}, page_content='Table: , Logical Column: customer closing balance amount, Physical Column: cust_cls_bal_amt, Data Type: decimal(20,3), Protection Group: Confidential, PG Group: CNFD'), Document(metadata={'PGGroup': 'CNFD', 'data_type': 'decimal(10,2)', 'logical_column_name': 'transaction amount', 'physical_column_name': 'trans_amt', 'protection_group': 'Confidential'}, page_content='Table: , Logical Column: transaction amount, Physical Column: trans_amt, Data Type: decimal(10,2), Protection Group: Confidential, PG Group: CNFD'), Document(metadata={'PGGroup': 'CNFD', 'data_type': 'decimal(10,2)', 'logical_column_name': 'transaction amount', 'physical_column_name': 'trans_amt', 'protection_group': 'Confidential'}, page_content='Table: , Logical Column: transaction amount, Physical Column: trans_amt, Data Type: decimal(10,2), Protection Group: Confidential, PG Group: CNFD'), Document(metadata={'PGGroup': 'CNFD', 'data_type': 'decimal(20,3)', 'logical_column_name': 'customer credit limit', 'physical_column_name': 'cust_crdt_lim', 'protection_group': 'Confidential'}, page_content='Table: , Logical Column: customer credit limit, Physical Column: cust_crdt_lim, Data Type: decimal(20,3), Protection Group: Confidential, PG Group: CNFD'), Document(metadata={'PGGroup': 'CNFD', 'data_type': 'decimal(20,3)', 'logical_column_name': 'customer credit limit', 'physical_column_name': 'cust_crdt_lim', 'protection_group': 'Confidential'}, page_content='Table: , Logical Column: customer credit limit, Physical Column: cust_crdt_lim, Data Type: decimal(20,3), Protection Group: Confidential, PG Group: CNFD'), Document(metadata={'PGGroup': 'RISKSC', 'data_type': 'Varchar(200)', 'logical_column_name': 'branch manager', 'physical_column_name': 'brnch_mgr', 'protection_group': 'RiskScore'}, page_content='Table: , Logical Column: branch manager, Physical Column: brnch_mgr, Data Type: Varchar(200), Protection Group: RiskScore, PG Group: RISKSC'), Document(metadata={'PGGroup': 'RISKSC', 'data_type': 'Varchar(200)', 'logical_column_name': 'branch manager', 'physical_column_name': 'brnch_mgr', 'protection_group': 'RiskScore'}, page_content='Table: , Logical Column: branch manager, Physical Column: brnch_mgr, Data Type: Varchar(200), Protection Group: RiskScore, PG Group: RISKSC'), Document(metadata={'PGGroup': 'CNFD', 'data_type': 'decimal(20,3)', 'logical_column_name': 'loan amount', 'physical_column_name': 'loan_amt', 'protection_group': 'Confidential'}, page_content='Table: , Logical Column: loan amount, Physical Column: loan_amt, Data Type: decimal(20,3), Protection Group: Confidential, PG Group: CNFD'), Document(metadata={'PGGroup': 'CNFD', 'data_type': 'decimal(20,3)', 'logical_column_name': 'loan amount', 'physical_column_name': 'loan_amt', 'protection_group': 'Confidential'}, page_content='Table: , Logical Column: loan amount, Physical Column: loan_amt, Data Type: decimal(20,3), Protection Group: Confidential, PG Group: CNFD'), Document(metadata={'PGGroup': 'CNFD', 'data_type': 'decimal(20,3)', 'logical_column_name': 'transaction fee', 'physical_column_name': 'trans_fee', 'protection_group': 'Confidential'}, page_content='Table: , Logical Column: transaction fee, Physical Column: trans_fee, Data Type: decimal(20,3), Protection Group: Confidential, PG Group: CNFD'), Document(metadata={'PGGroup': 'HICNFD', 'data_type': 'integer', 'logical_column_name': 'customer average salary', 'physical_column_name': 'avg_sal', 'protection_group': 'High Confidential'}, page_content='Table: , Logical Column: customer average salary, Physical Column: avg_sal, Data Type: integer, Protection Group: High Confidential, PG Group: HICNFD'), Document(metadata={'PGGroup': 'HICNFD', 'data_type': 'integer', 'logical_column_name': 'customer average salary', 'physical_column_name': 'avg_sal', 'protection_group': 'High Confidential'}, page_content='Table: , Logical Column: customer average salary, Physical Column: avg_sal, Data Type: integer, Protection Group: High Confidential, PG Group: HICNFD'), Document(metadata={'PGGroup': 'CNFD', 'data_type': 'varchar(255)', 'logical_column_name': 'branch manager', 'physical_column_name': 'brnch_mgr', 'protection_group': 'Confidential'}, page_content='Table: , Logical Column: branch manager, Physical Column: brnch_mgr, Data Type: varchar(255), Protection Group: Confidential, PG Group: CNFD'), Document(metadata={'PGGroup': 'INTL', 'data_type': 'varchar(255)', 'logical_column_name': 'branch contact number', 'physical_column_name': 'branch_contact', 'protection_group': 'Internal'}, page_content='Table: , Logical Column: branch contact number, Physical Column: branch_contact, Data Type: varchar(255), Protection Group: Internal, PG Group: INTL'), Document(metadata={'PGGroup': 'CNFD', 'data_type': 'integer', 'logical_column_name': 'credit card number', 'physical_column_name': 'cc_num', 'protection_group': 'Confidential'}, page_content='Table: , Logical Column: credit card number, Physical Column: cc_num, Data Type: integer, Protection Group: Confidential, PG Group: CNFD'), Document(metadata={'PGGroup': 'CNFD', 'data_type': 'integer', 'logical_column_name': 'credit card number', 'physical_column_name': 'cc_num', 'protection_group': 'Confidential'}, page_content='Table: , Logical Column: credit card number, Physical Column: cc_num, Data Type: integer, Protection Group: Confidential, PG Group: CNFD'), Document(metadata={'PGGroup': 'INTL', 'data_type': 'decimal(20,3)', 'logical_column_name': 'loan interest rate', 'physical_column_name': 'loan_int_rate', 'protection_group': 'Public'}, page_content='Table: , Logical Column: loan interest rate, Physical Column: loan_int_rate, Data Type: decimal(20,3), Protection Group: Public, PG Group: INTL'), Document(metadata={'PGGroup': 'INTL', 'data_type': 'decimal(20,3)', 'logical_column_name': 'loan interest rate', 'physical_column_name': 'loan_int_rate', 'protection_group': 'Public'}, page_content='Table: , Logical Column: loan interest rate, Physical Column: loan_int_rate, Data Type: decimal(20,3), Protection Group: Public, PG Group: INTL'), Document(metadata={'PGGroup': 'PUB', 'data_type': 'Varchar(200)', 'logical_column_name': 'branch location', 'physical_column_name': 'brnch_loc', 'protection_group': 'Public'}, page_content='Table: , Logical Column: branch location, Physical Column: brnch_loc, Data Type: Varchar(200), Protection Group: Public, PG Group: PUB'), Document(metadata={'PGGroup': 'PUB', 'data_type': 'Varchar(200)', 'logical_column_name': 'branch location', 'physical_column_name': 'brnch_loc', 'protection_group': 'Public'}, page_content='Table: , Logical Column: branch location, Physical Column: brnch_loc, Data Type: Varchar(200), Protection Group: Public, PG Group: PUB'), Document(metadata={'PGGroup': 'PUB', 'data_type': 'integer', 'logical_column_name': 'credit card expiry', 'physical_column_name': 'cc_exp', 'protection_group': 'Public'}, page_content='Table: , Logical Column: credit card expiry, Physical Column: cc_exp, Data Type: integer, Protection Group: Public, PG Group: PUB'), Document(metadata={'PGGroup': 'PUB', 'data_type': 'integer', 'logical_column_name': 'credit card expiry', 'physical_column_name': 'cc_exp', 'protection_group': 'Public'}, page_content='Table: , Logical Column: credit card expiry, Physical Column: cc_exp, Data Type: integer, Protection Group: Public, PG Group: PUB'), Document(metadata={'PGGroup': 'CNFD', 'data_type': 'integer', 'logical_column_name': 'customer age', 'physical_column_name': 'age', 'protection_group': 'Confidential'}, page_content='Table: , Logical Column: customer age, Physical Column: age, Data Type: integer, Protection Group: Confidential, PG Group: CNFD'), Document(metadata={'PGGroup': 'CNFD', 'data_type': 'integer', 'logical_column_name': 'customer age', 'physical_column_name': 'age', 'protection_group': 'Confidential'}, page_content='Table: , Logical Column: customer age, Physical Column: age, Data Type: integer, Protection Group: Confidential, PG Group: CNFD'), Document(metadata={'PGGroup': 'CNFD', 'data_type': 'varchar(255)', 'logical_column_name': 'loan approval status', 'physical_column_name': 'loan_approval_sts', 'protection_group': 'Public'}, page_content='Table: , Logical Column: loan approval status, Physical Column: loan_approval_sts, Data Type: varchar(255), Protection Group: Public, PG Group: CNFD'), Document(metadata={'PGGroup': 'CNFD', 'data_type': 'varchar(255)', 'logical_column_name': 'loan approval status', 'physical_column_name': 'loan_approval_sts', 'protection_group': 'Public'}, page_content='Table: , Logical Column: loan approval status, Physical Column: loan_approval_sts, Data Type: varchar(255), Protection Group: Public, PG Group: CNFD'), Document(metadata={'PGGroup': 'INTL', 'data_type': 'DATE', 'logical_column_name': 'transaction date', 'physical_column_name': 'trans_date', 'protection_group': 'Internal'}, page_content='Table: , Logical Column: transaction date, Physical Column: trans_date, Data Type: DATE, Protection Group: Internal, PG Group: INTL'), Document(metadata={'PGGroup': 'INTL', 'data_type': 'DATE', 'logical_column_name': 'transaction date', 'physical_column_name': 'trans_date', 'protection_group': 'Internal'}, page_content='Table: , Logical Column: transaction date, Physical Column: trans_date, Data Type: DATE, Protection Group: Internal, PG Group: INTL')]\n",
      "<class 'str'>\n",
      "logical_column_name:amount\n",
      "<class 'str'>\n"
     ]
    },
    {
     "name": "stderr",
     "output_type": "stream",
     "text": [
      "Number of requested results 250 is greater than number of elements in index 33, updating n_results = 33\n"
     ]
    },
    {
     "name": "stdout",
     "output_type": "stream",
     "text": [
      "logical_column_name:amount [Document(metadata={'PGGroup': 'CNFD', 'data_type': 'decimal(10,2)', 'logical_column_name': 'transaction amount', 'physical_column_name': 'trans_amt', 'protection_group': 'Confidential'}, page_content='Table: , Logical Column: transaction amount, Physical Column: trans_amt, Data Type: decimal(10,2), Protection Group: Confidential, PG Group: CNFD'), Document(metadata={'PGGroup': 'CNFD', 'data_type': 'decimal(10,2)', 'logical_column_name': 'transaction amount', 'physical_column_name': 'trans_amt', 'protection_group': 'Confidential'}, page_content='Table: , Logical Column: transaction amount, Physical Column: trans_amt, Data Type: decimal(10,2), Protection Group: Confidential, PG Group: CNFD'), Document(metadata={'PGGroup': 'CNFD', 'data_type': 'decimal(20,3)', 'logical_column_name': 'loan amount', 'physical_column_name': 'loan_amt', 'protection_group': 'Confidential'}, page_content='Table: , Logical Column: loan amount, Physical Column: loan_amt, Data Type: decimal(20,3), Protection Group: Confidential, PG Group: CNFD'), Document(metadata={'PGGroup': 'CNFD', 'data_type': 'decimal(20,3)', 'logical_column_name': 'loan amount', 'physical_column_name': 'loan_amt', 'protection_group': 'Confidential'}, page_content='Table: , Logical Column: loan amount, Physical Column: loan_amt, Data Type: decimal(20,3), Protection Group: Confidential, PG Group: CNFD'), Document(metadata={'PGGroup': 'CNFD', 'data_type': 'decimal(20,3)', 'logical_column_name': 'customer opening balance amount', 'physical_column_name': 'cust_open_bal_amt', 'protection_group': 'Confidential'}, page_content='Table: , Logical Column: customer opening balance amount, Physical Column: cust_open_bal_amt, Data Type: decimal(20,3), Protection Group: Confidential, PG Group: CNFD'), Document(metadata={'PGGroup': 'CNFD', 'data_type': 'decimal(20,3)', 'logical_column_name': 'customer opening balance amount', 'physical_column_name': 'cust_open_bal_amt', 'protection_group': 'Confidential'}, page_content='Table: , Logical Column: customer opening balance amount, Physical Column: cust_open_bal_amt, Data Type: decimal(20,3), Protection Group: Confidential, PG Group: CNFD'), Document(metadata={'PGGroup': 'CNFD', 'data_type': 'decimal(20,3)', 'logical_column_name': 'customer closing balance amount', 'physical_column_name': 'cust_cls_bal_amt', 'protection_group': 'Confidential'}, page_content='Table: , Logical Column: customer closing balance amount, Physical Column: cust_cls_bal_amt, Data Type: decimal(20,3), Protection Group: Confidential, PG Group: CNFD'), Document(metadata={'PGGroup': 'CNFD', 'data_type': 'decimal(20,3)', 'logical_column_name': 'customer closing balance amount', 'physical_column_name': 'cust_cls_bal_amt', 'protection_group': 'Confidential'}, page_content='Table: , Logical Column: customer closing balance amount, Physical Column: cust_cls_bal_amt, Data Type: decimal(20,3), Protection Group: Confidential, PG Group: CNFD'), Document(metadata={'PGGroup': 'CNFD', 'data_type': 'decimal(20,3)', 'logical_column_name': 'credit card balance', 'physical_column_name': 'cc_bal', 'protection_group': 'Internal'}, page_content='Table: , Logical Column: credit card balance, Physical Column: cc_bal, Data Type: decimal(20,3), Protection Group: Internal, PG Group: CNFD'), Document(metadata={'PGGroup': 'CNFD', 'data_type': 'decimal(20,3)', 'logical_column_name': 'credit card balance', 'physical_column_name': 'cc_bal', 'protection_group': 'Internal'}, page_content='Table: , Logical Column: credit card balance, Physical Column: cc_bal, Data Type: decimal(20,3), Protection Group: Internal, PG Group: CNFD'), Document(metadata={'PGGroup': 'CNFD', 'data_type': 'decimal(20,3)', 'logical_column_name': 'transaction fee', 'physical_column_name': 'trans_fee', 'protection_group': 'Confidential'}, page_content='Table: , Logical Column: transaction fee, Physical Column: trans_fee, Data Type: decimal(20,3), Protection Group: Confidential, PG Group: CNFD'), Document(metadata={'PGGroup': 'CNFD', 'data_type': 'decimal(20,3)', 'logical_column_name': 'customer credit limit', 'physical_column_name': 'cust_crdt_lim', 'protection_group': 'Confidential'}, page_content='Table: , Logical Column: customer credit limit, Physical Column: cust_crdt_lim, Data Type: decimal(20,3), Protection Group: Confidential, PG Group: CNFD'), Document(metadata={'PGGroup': 'CNFD', 'data_type': 'decimal(20,3)', 'logical_column_name': 'customer credit limit', 'physical_column_name': 'cust_crdt_lim', 'protection_group': 'Confidential'}, page_content='Table: , Logical Column: customer credit limit, Physical Column: cust_crdt_lim, Data Type: decimal(20,3), Protection Group: Confidential, PG Group: CNFD'), Document(metadata={'PGGroup': 'HICNFD', 'data_type': 'integer', 'logical_column_name': 'customer average salary', 'physical_column_name': 'avg_sal', 'protection_group': 'High Confidential'}, page_content='Table: , Logical Column: customer average salary, Physical Column: avg_sal, Data Type: integer, Protection Group: High Confidential, PG Group: HICNFD'), Document(metadata={'PGGroup': 'HICNFD', 'data_type': 'integer', 'logical_column_name': 'customer average salary', 'physical_column_name': 'avg_sal', 'protection_group': 'High Confidential'}, page_content='Table: , Logical Column: customer average salary, Physical Column: avg_sal, Data Type: integer, Protection Group: High Confidential, PG Group: HICNFD'), Document(metadata={'PGGroup': 'INTL', 'data_type': 'decimal(20,3)', 'logical_column_name': 'loan interest rate', 'physical_column_name': 'loan_int_rate', 'protection_group': 'Public'}, page_content='Table: , Logical Column: loan interest rate, Physical Column: loan_int_rate, Data Type: decimal(20,3), Protection Group: Public, PG Group: INTL'), Document(metadata={'PGGroup': 'INTL', 'data_type': 'decimal(20,3)', 'logical_column_name': 'loan interest rate', 'physical_column_name': 'loan_int_rate', 'protection_group': 'Public'}, page_content='Table: , Logical Column: loan interest rate, Physical Column: loan_int_rate, Data Type: decimal(20,3), Protection Group: Public, PG Group: INTL'), Document(metadata={'PGGroup': 'CNFD', 'data_type': 'integer', 'logical_column_name': 'credit card number', 'physical_column_name': 'cc_num', 'protection_group': 'Confidential'}, page_content='Table: , Logical Column: credit card number, Physical Column: cc_num, Data Type: integer, Protection Group: Confidential, PG Group: CNFD'), Document(metadata={'PGGroup': 'CNFD', 'data_type': 'integer', 'logical_column_name': 'credit card number', 'physical_column_name': 'cc_num', 'protection_group': 'Confidential'}, page_content='Table: , Logical Column: credit card number, Physical Column: cc_num, Data Type: integer, Protection Group: Confidential, PG Group: CNFD'), Document(metadata={'PGGroup': 'CNFD', 'data_type': 'integer', 'logical_column_name': 'customer age', 'physical_column_name': 'age', 'protection_group': 'Confidential'}, page_content='Table: , Logical Column: customer age, Physical Column: age, Data Type: integer, Protection Group: Confidential, PG Group: CNFD'), Document(metadata={'PGGroup': 'CNFD', 'data_type': 'integer', 'logical_column_name': 'customer age', 'physical_column_name': 'age', 'protection_group': 'Confidential'}, page_content='Table: , Logical Column: customer age, Physical Column: age, Data Type: integer, Protection Group: Confidential, PG Group: CNFD'), Document(metadata={'PGGroup': 'INTL', 'data_type': 'varchar(255)', 'logical_column_name': 'branch contact number', 'physical_column_name': 'branch_contact', 'protection_group': 'Internal'}, page_content='Table: , Logical Column: branch contact number, Physical Column: branch_contact, Data Type: varchar(255), Protection Group: Internal, PG Group: INTL'), Document(metadata={'PGGroup': 'INTL', 'data_type': 'DATE', 'logical_column_name': 'transaction date', 'physical_column_name': 'trans_date', 'protection_group': 'Internal'}, page_content='Table: , Logical Column: transaction date, Physical Column: trans_date, Data Type: DATE, Protection Group: Internal, PG Group: INTL'), Document(metadata={'PGGroup': 'INTL', 'data_type': 'DATE', 'logical_column_name': 'transaction date', 'physical_column_name': 'trans_date', 'protection_group': 'Internal'}, page_content='Table: , Logical Column: transaction date, Physical Column: trans_date, Data Type: DATE, Protection Group: Internal, PG Group: INTL'), Document(metadata={'PGGroup': 'PUB', 'data_type': 'integer', 'logical_column_name': 'credit card expiry', 'physical_column_name': 'cc_exp', 'protection_group': 'Public'}, page_content='Table: , Logical Column: credit card expiry, Physical Column: cc_exp, Data Type: integer, Protection Group: Public, PG Group: PUB'), Document(metadata={'PGGroup': 'PUB', 'data_type': 'integer', 'logical_column_name': 'credit card expiry', 'physical_column_name': 'cc_exp', 'protection_group': 'Public'}, page_content='Table: , Logical Column: credit card expiry, Physical Column: cc_exp, Data Type: integer, Protection Group: Public, PG Group: PUB'), Document(metadata={'PGGroup': 'CNFD', 'data_type': 'varchar(255)', 'logical_column_name': 'loan approval status', 'physical_column_name': 'loan_approval_sts', 'protection_group': 'Public'}, page_content='Table: , Logical Column: loan approval status, Physical Column: loan_approval_sts, Data Type: varchar(255), Protection Group: Public, PG Group: CNFD'), Document(metadata={'PGGroup': 'CNFD', 'data_type': 'varchar(255)', 'logical_column_name': 'loan approval status', 'physical_column_name': 'loan_approval_sts', 'protection_group': 'Public'}, page_content='Table: , Logical Column: loan approval status, Physical Column: loan_approval_sts, Data Type: varchar(255), Protection Group: Public, PG Group: CNFD'), Document(metadata={'PGGroup': 'RISKSC', 'data_type': 'Varchar(200)', 'logical_column_name': 'branch manager', 'physical_column_name': 'brnch_mgr', 'protection_group': 'RiskScore'}, page_content='Table: , Logical Column: branch manager, Physical Column: brnch_mgr, Data Type: Varchar(200), Protection Group: RiskScore, PG Group: RISKSC'), Document(metadata={'PGGroup': 'RISKSC', 'data_type': 'Varchar(200)', 'logical_column_name': 'branch manager', 'physical_column_name': 'brnch_mgr', 'protection_group': 'RiskScore'}, page_content='Table: , Logical Column: branch manager, Physical Column: brnch_mgr, Data Type: Varchar(200), Protection Group: RiskScore, PG Group: RISKSC'), Document(metadata={'PGGroup': 'CNFD', 'data_type': 'varchar(255)', 'logical_column_name': 'branch manager', 'physical_column_name': 'brnch_mgr', 'protection_group': 'Confidential'}, page_content='Table: , Logical Column: branch manager, Physical Column: brnch_mgr, Data Type: varchar(255), Protection Group: Confidential, PG Group: CNFD'), Document(metadata={'PGGroup': 'PUB', 'data_type': 'Varchar(200)', 'logical_column_name': 'branch location', 'physical_column_name': 'brnch_loc', 'protection_group': 'Public'}, page_content='Table: , Logical Column: branch location, Physical Column: brnch_loc, Data Type: Varchar(200), Protection Group: Public, PG Group: PUB'), Document(metadata={'PGGroup': 'PUB', 'data_type': 'Varchar(200)', 'logical_column_name': 'branch location', 'physical_column_name': 'brnch_loc', 'protection_group': 'Public'}, page_content='Table: , Logical Column: branch location, Physical Column: brnch_loc, Data Type: Varchar(200), Protection Group: Public, PG Group: PUB')]\n",
      "231\n"
     ]
    },
    {
     "data": {
      "text/plain": [
       "'Logical Column: customer closing balance amount, Physical Column: cust_cls_bal_amt, Data Type: decimal(20,3), Protection Group: Confidential, PG Group: CNFD\\nLogical Column: customer opening balance amount, Physical Column: cust_open_bal_amt, Data Type: decimal(20,3), Protection Group: Confidential, PG Group: CNFD\\nLogical Column: credit card balance, Physical Column: cc_bal, Data Type: decimal(20,3), Protection Group: Internal, PG Group: CNFD\\nLogical Column: customer credit limit, Physical Column: cust_crdt_lim, Data Type: decimal(20,3), Protection Group: Confidential, PG Group: CNFD\\nLogical Column: transaction amount, Physical Column: trans_amt, Data Type: decimal(10,2), Protection Group: Confidential, PG Group: CNFD\\nLogical Column: transaction fee, Physical Column: trans_fee, Data Type: decimal(20,3), Protection Group: Confidential, PG Group: CNFD\\nLogical Column: loan amount, Physical Column: loan_amt, Data Type: decimal(20,3), Protection Group: Confidential, PG Group: CNFD\\nLogical Column: credit card number, Physical Column: cc_num, Data Type: integer, Protection Group: Confidential, PG Group: CNFD\\nLogical Column: customer age, Physical Column: age, Data Type: integer, Protection Group: Confidential, PG Group: CNFD\\nLogical Column: customer average salary, Physical Column: avg_sal, Data Type: integer, Protection Group: High Confidential, PG Group: HICNFD\\nLogical Column: branch contact number, Physical Column: branch_contact, Data Type: varchar(255), Protection Group: Internal, PG Group: INTL\\nLogical Column: branch manager, Physical Column: brnch_mgr, Data Type: varchar(255), Protection Group: Confidential, PG Group: CNFD\\nLogical Column: credit card expiry, Physical Column: cc_exp, Data Type: integer, Protection Group: Public, PG Group: PUB\\nLogical Column: loan interest rate, Physical Column: loan_int_rate, Data Type: decimal(20,3), Protection Group: Public, PG Group: INTL\\nLogical Column: transaction date, Physical Column: trans_date, Data Type: DATE, Protection Group: Internal, PG Group: INTL\\nLogical Column: branch location, Physical Column: brnch_loc, Data Type: Varchar(200), Protection Group: Public, PG Group: PUB\\nLogical Column: loan approval status, Physical Column: loan_approval_sts, Data Type: varchar(255), Protection Group: Public, PG Group: CNFD'"
      ]
     },
     "execution_count": 70,
     "metadata": {},
     "output_type": "execute_result"
    }
   ],
   "source": [
    "\n",
    "retrieved_results = vector_search(cleaned_query, vector_store)\n",
    "examples_context = \"\\n\".join([\n",
    "    f\"Logical Column: {doc.metadata['logical_column_name']}, \"\n",
    "    f\"Physical Column: {doc.metadata['physical_column_name']}, \"\n",
    "    f\"Data Type: {doc.metadata['data_type']}, \"\n",
    "    f\"Protection Group: {doc.metadata['protection_group']}, \"\n",
    "    f\"PG Group: {doc.metadata['PGGroup']}\"\n",
    "    for doc in retrieved_results  # Iterate over the unique results\n",
    "])\n",
    "examples_context"
   ]
  },
  {
   "cell_type": "markdown",
   "metadata": {},
   "source": []
  },
  {
   "cell_type": "code",
   "execution_count": 71,
   "metadata": {},
   "outputs": [
    {
     "name": "stdout",
     "output_type": "stream",
     "text": [
      "Assistant: Proposed fields for the new logical column \"physical name customer closing balance amount\":\n",
      "- Physical Column: cust_cls_bal_amt_name\n",
      "- Data Type: decimal(20,3)\n",
      "- Protection Group: Confidential\n",
      "- PG Group: CNFD\n"
     ]
    }
   ],
   "source": [
    "from langchain.llms import OpenAI\n",
    "from langchain.prompts import PromptTemplate\n",
    "import requests\n",
    "\n",
    "url = 'https://api.openai.com/v1/chat/completions'\n",
    "# Set up the headers\n",
    "api_key = os.environ[\"OPENAI_API_KEY\"]\n",
    "headers = {\n",
    "    'Authorization': f'Bearer {api_key}',  # Include your API key in the authorization header\n",
    "    'Content-Type': 'application/json'      # Specify that we're sending JSON data\n",
    "}\n",
    "# Define your prompt template\n",
    "prompt_template = \"\"\"\n",
    "Based on the following examples of logical and physical column names, data types, and protection groups, suggest a new physical column name, data type, protection group, and PG group for the given logical column name. Use the patterns and context provided below.\n",
    "\n",
    "Existing Metadata Examples:\n",
    "{examples_context}\n",
    "\n",
    "New Logical Column: \"{logical_column_name}\"\n",
    "\n",
    "Suggest the following fields:\n",
    "- Physical Column: <suggested_physical_column_name>\n",
    "- Data Type: <suggested_data_type>\n",
    "- Protection Group: <suggested_protection_group>\n",
    "- PG Group: <suggested_pg_group>\n",
    "\"\"\"\n",
    "def create_prompt(examples_context, logical_column_name):\n",
    "    return prompt_template.format(examples_context=examples_context, logical_column_name=logical_column_name)\n",
    "\n",
    "logical_column_name =  cleaned_query\n",
    "\n",
    "# Create the prompt\n",
    "formatted_prompt = create_prompt(examples_context, logical_column_name)\n",
    "# Prepare the payload\n",
    "payload = {\n",
    "    'model': 'gpt-3.5-turbo',  # or 'gpt-4'\n",
    "    'messages': [{'role': 'user', 'content': formatted_prompt}],\n",
    "    'max_tokens': 150  # Adjust as needed\n",
    "}\n",
    "\n",
    "# Make the request\n",
    "response = requests.post(url, headers=headers, json=payload)\n",
    "\n",
    "# Check the response\n",
    "if response.status_code == 200:\n",
    "    # Extract and print the assistant's response\n",
    "    assistant_response = response.json()['choices'][0]['message']['content']\n",
    "    print(\"Assistant:\", assistant_response)\n",
    "else:\n",
    "    print(f'Error code: {response.status_code} - {response.json()}')"
   ]
  },
  {
   "cell_type": "code",
   "execution_count": null,
   "metadata": {},
   "outputs": [],
   "source": []
  }
 ],
 "metadata": {
  "kernelspec": {
   "display_name": "pyspark-env",
   "language": "python",
   "name": "python3"
  },
  "language_info": {
   "codemirror_mode": {
    "name": "ipython",
    "version": 3
   },
   "file_extension": ".py",
   "mimetype": "text/x-python",
   "name": "python",
   "nbconvert_exporter": "python",
   "pygments_lexer": "ipython3",
   "version": "3.12.3"
  }
 },
 "nbformat": 4,
 "nbformat_minor": 2
}
